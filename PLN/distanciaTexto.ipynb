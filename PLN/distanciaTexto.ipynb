{
 "cells": [
  {
   "cell_type": "markdown",
   "metadata": {},
   "source": [
    "# Textual Similarity Analysis Tool\n",
    "\n",
    "## Overview\n",
    "This notebook, authored by Jesus Mendez, is designed to perform detailed similarity analysis between text documents. It implements various representation techniques and similarity measures to assess the closeness of textual data.\n",
    "\n",
    "## Functionality\n",
    "- **Text Processing:** Utilizes custom functions to read and preprocess text data.\n",
    "- **Vector Representations:** Converts text into binary, frequency, and TF-IDF vector representations.\n",
    "- **Cosine Similarity Measurement:** Computes cosine similarity between a document and a corpus to find the most similar texts.\n",
    "- **Results Output:** Outputs the similarity results into an Excel file, organizing data across multiple sheets for different document comparisons.\n",
    "\n",
    "## Key Components\n",
    "- **Binary Representation:** Considers the presence or absence of terms in documents.\n",
    "- **Frequency Representation:** Takes into account the frequency of terms in the text.\n",
    "- **TF-IDF Representation:** Reflects the importance of terms in documents relative to a corpus.\n",
    "- **Cosine Similarity:** A method used to determine the cosine of the angle between two non-zero vectors in the space of their representations, indicative of their similarity.\n",
    "\n",
    "## Output\n",
    "- An Excel file named `tabla.xlsx` containing the similarity scores and the corresponding text excerpts, structured to provide clear insights for each type of vector representation.\n",
    "\n",
    "## Author\n",
    "- **Name:** Jesus Mendez\n",
    "\n",
    "This tool is essential for researchers and analysts involved in natural language processing, allowing them to quantitatively compare texts and identify relevant patterns or similarities.\n"
   ]
  },
  {
   "cell_type": "markdown",
   "metadata": {},
   "source": [
    "### Importing Libraries and Modules\n",
    "This block imports necessary libraries for text processing and similarity analysis, including `numpy` for numerical operations, `sklearn` for feature extraction and similarity calculation functions, and custom modules for text normalization and manipulation.\n"
   ]
  },
  {
   "cell_type": "code",
   "execution_count": 1,
   "metadata": {},
   "outputs": [],
   "source": [
    "import numpy as np\n",
    "from sklearn.feature_extraction.text import CountVectorizer\n",
    "from sklearn.feature_extraction.text import TfidfVectorizer\n",
    "from sklearn.metrics.pairwise import cosine_similarity\n",
    "import normalizar\n",
    "import openpyxl"
   ]
  },
  {
   "cell_type": "markdown",
   "metadata": {},
   "source": [
    "### Functions to Retrieve Corpus and Documents\n",
    "Defines functions to load and process texts from files. This includes reading a complete corpus or individual documents, with options to normalize the text using a custom module if required.\n"
   ]
  },
  {
   "cell_type": "code",
   "execution_count": 2,
   "metadata": {},
   "outputs": [],
   "source": [
    "def getCorpus(fileName, norm = False):\n",
    "    if norm:\n",
    "            corpus = normalizar.generarCorpus(fileName)\n",
    "            corpusProcesado = normalizar.procesarCorpus(corpus)\n",
    "    else: \n",
    "        with open(fileName, 'r', encoding='utf-8') as f:\n",
    "            corpusProcesado = f.readlines()\n",
    "    return corpusProcesado\n",
    "    \n",
    "def getDocuments(fileName, norm = True):\n",
    "    if norm:\n",
    "        corpusProcesado = normalizar.procesarCadena(fileName)\n",
    "    else: \n",
    "        with open(fileName, 'r', encoding='utf-8') as f:\n",
    "            corpusProcesado = f.read()\n",
    "    \n",
    "    return corpusProcesado"
   ]
  },
  {
   "cell_type": "markdown",
   "metadata": {},
   "source": [
    "### Text Representation\n",
    "Implements three types of vector representations for texts: binary, term frequency, and TF-IDF. These functions prepare the corpus and documents for similarity calculation by transforming the text into numerical vectors based on the presence and frequency of words.\n"
   ]
  },
  {
   "cell_type": "code",
   "execution_count": 3,
   "metadata": {},
   "outputs": [],
   "source": [
    "def repBinaria(corpus, doc):\n",
    "    vectorizador_binario = CountVectorizer(binary=True, token_pattern=r'(?u)\\w\\w+|\\w\\w+\\n|\\.')\n",
    "    vectorCorpus = vectorizador_binario.fit_transform(corpus)\n",
    "    vectorDocumento = vectorizador_binario.transform([doc])\n",
    "    \n",
    "    return vectorCorpus, vectorDocumento \n",
    "\n",
    "def repFrecuencia(corpus, doc):\n",
    "    vectorizador_frecuencia = CountVectorizer(token_pattern=r'(?u)\\w\\w+|\\w\\w+\\n|\\.')\n",
    "    vectorCorpus = vectorizador_frecuencia.fit(corpus)\n",
    "    vectorDocumento = vectorizador_frecuencia.transform([doc])\n",
    "    \n",
    "    return vectorCorpus, vectorDocumento \n",
    "\n",
    "def repTFIDF(corpus, doc):\n",
    "    vectorizador_tfidf = TfidfVectorizer(token_pattern=r'(?u)\\w\\w+|\\w\\w+\\n|\\.')\n",
    "    vectorCorpus = vectorizador_tfidf.fit(corpus)\n",
    "    vectorDocumento = vectorizador_tfidf.transform([doc])\n",
    "    \n",
    "    return vectorCorpus, vectorDocumento \n"
   ]
  },
  {
   "cell_type": "markdown",
   "metadata": {},
   "source": [
    "### Cosine Similarity Calculation\n",
    "Defines a function to calculate the cosine similarity between a document and a corpus, using the vector representations previously defined. This function is crucial for identifying the most similar documents within the corpus.\n"
   ]
  },
  {
   "cell_type": "code",
   "execution_count": 4,
   "metadata": {},
   "outputs": [],
   "source": [
    "def similitudCoseno(corpus, doc, n = 10):\n",
    "    similitud = cosine_similarity(doc, corpus)\n",
    "    line_index = 0 #linea especifica del corpus\n",
    "    similarities = similitud[line_index]\n",
    "    index = np.argsort(similarities)[-n:]\n",
    "    index = np.flipud(index)\n",
    "\n",
    "    simValue = list()\n",
    "\n",
    "    for i in index:\n",
    "        simValue.append(cosine_similarity(doc, corpus[i]))\n",
    "\n",
    "    return index, simValue"
   ]
  },
  {
   "cell_type": "markdown",
   "metadata": {},
   "source": [
    "### Creating a Results Table in Excel\n",
    "Uses a loop to process various documents, compare them with the corpus using different representations, and save the results in an Excel spreadsheet. Each document generates a separate sheet with the most similar texts and their corresponding similarity values.\n"
   ]
  },
  {
   "cell_type": "code",
   "execution_count": 9,
   "metadata": {},
   "outputs": [],
   "source": [
    "def makeTable():\n",
    "\n",
    "    corpus = getCorpus(\"corpus_procesado.txt\")\n",
    "\n",
    "    docs = ['prueba 1 (medicamentos)', 'prueba 2 (horario de verano)', 'prueba 3 (pemex)', 'prueba 4 (IPN)', 'prueba 5 (vaticano)']\n",
    "\n",
    "    libro = openpyxl.Workbook()\n",
    "\n",
    "    for i in docs:\n",
    "\n",
    "        doc = getDocuments(\"./pruebas/\"+i+'.txt')\n",
    "\n",
    "        nueva_hoja = libro.create_sheet(i)\n",
    "        libro.active = nueva_hoja\n",
    "\n",
    "        nueva_hoja.cell(row=1, column=1, value=i)\n",
    "        nueva_hoja.cell(row=1, column=2, value=\"Contenido\")\n",
    "        nueva_hoja.cell(row=1, column=3, value=\"Valor Similitud\")\n",
    "\n",
    "        for i in range(3):\n",
    "            if i == 0:\n",
    "                vectorCorpus, vectorDocumento = repBinaria(corpus, doc)\n",
    "                array, distancia = similitudCoseno(vectorCorpus, vectorDocumento)\n",
    "                for i in range(10):\n",
    "                    nueva_hoja.cell(row=i+2, column=1, value=\"Representacion Binaria\")\n",
    "                    nueva_hoja.cell(row=i+2, column=2, value=corpus[array[i]])\n",
    "                    nueva_hoja.cell(row=i+2, column=3, value=distancia[i][0][0])\n",
    "            elif i == 1:\n",
    "                vectorCorpus, vectorDocumento = repFrecuencia(corpus, doc)\n",
    "                array, distancia = similitudCoseno(vectorCorpus, vectorDocumento)\n",
    "                for i in range(10):\n",
    "                    nueva_hoja.cell(row=i+13, column=1, value=\"Representación de frecuencias\")\n",
    "                    nueva_hoja.cell(row=i+13, column=2, value=corpus[array[i]])\n",
    "                    nueva_hoja.cell(row=i+13, column=3, value=distancia[i][0][0])\n",
    "            else: \n",
    "                vectorCorpus, vectorDocumento = repTFIDF(corpus, doc)\n",
    "                array, distancia = similitudCoseno(vectorCorpus, vectorDocumento)\n",
    "                for i in range(10):\n",
    "                    nueva_hoja.cell(row=i+24, column=1, value=\"TD-IDF\")\n",
    "                    nueva_hoja.cell(row=i+24, column=2, value=corpus[array[i]])\n",
    "                    nueva_hoja.cell(row=i+24, column=3, value=distancia[i][0][0])\n",
    "\n",
    "    libro.save(\"tabla.xlsx\")\n"
   ]
  },
  {
   "cell_type": "markdown",
   "metadata": {},
   "source": [
    "### Example of Binary Representation and Similarity Usage\n",
    "Applies the binary representation and cosine similarity calculation to a test document and the corpus, showing examples of similar texts found.\n"
   ]
  },
  {
   "cell_type": "code",
   "execution_count": 6,
   "metadata": {},
   "outputs": [
    {
     "name": "stdout",
     "output_type": "stream",
     "text": [
      "ciudad MÉXICO . problema sector salud Veracruz poder estar vigente , ir más allá quimioterapia medicamento apócrifo , aplicado supuestamente niño cáncer administración gobernador Fidel Herrera Javier Duarte . José Narro Robles , secretario Salud , revelar martes brigada 12 especialista Cofepris personal Secretaría Salud descubrir 11 tonelada medicamento caduco 47 mil prueba vih registro sanitario . ¿ aquí haber problema ? sí , haber problema , decir claridad , haber detectar problema . gustar no presentar haber presentar , tener corregir situación ” , decir .   durante después reunión plenario Partido Verde Ecologista , Senado República , funcionario contestar tema central investigación , quimioterapia apócrifa niño cáncer , estar investigar registro 2010 2013 . haber encontrar ser evidencia documental caso registrar año 2010 conclusión avanzar año 2011 . no tener evidencia momento afectación , niño paciente , tener estudiar totalidad expediente clínico poder llegar conclusión ” , decir .   momento , Secretaría Salud no haber encontrar evidencia fallecimiento Veracruz causa supuesto falsa quimioterapia , expediente clínico seguir ser analizado . recomeir familia paciente tener padecimiento oncológico , no desatiendar tratamiento , ser mucho delicado , poder comprometer estar hacer , medicamento atribuir situación anómalo , ser medicamento no recomendar niño ” , agregar .   Narro Robles precisar investigación no aún haber terminar , adelantar Secretaría Salud considerar presentar primero informe investigación miércoles jueves . \n",
      "\n"
     ]
    }
   ],
   "source": [
    "corpus = getCorpus(\"corpus_procesado.txt\")\n",
    "doc = getDocuments('./pruebas/prueba 1 (medicamentos).txt')\n",
    "\n",
    "print(doc)\n"
   ]
  },
  {
   "cell_type": "code",
   "execution_count": 7,
   "metadata": {},
   "outputs": [],
   "source": [
    "\n",
    "c, d = repBinaria(corpus, doc)\n",
    "arr, dis = similitudCoseno(c,d)"
   ]
  },
  {
   "cell_type": "code",
   "execution_count": 8,
   "metadata": {},
   "outputs": [
    {
     "name": "stdout",
     "output_type": "stream",
     "text": [
      "ciudad MÉXICO . problema sector salud Veracruz poder estar vigente , ir más allá quimioterapia medicamento apócrifo , aplicado supuestamente niño cáncer administración gobernador Fidel Herrera Javier Duarte . José Narro Robles , secretario Salud , revelar martes brigada 12 especialista Cofepris personal Secretaría Salud descubrir 11 tonelada medicamento caduco 47 mil prueba vih registro sanitario . ¿ aquí haber problema ? sí , haber problema , decir claridad , haber detectar problema . gustar no presentar haber presentar , tener corregir situación ” , decir .   durante después reunión plenario Partido Verde Ecologista , Senado República , funcionario contestar tema central investigación , quimioterapia apócrifa niño cáncer , estar investigar registro 2010 2013 . haber encontrar ser evidencia documental caso registrar año 2010 conclusión avanzar año 2011 . no tener evidencia momento afectación , niño paciente , tener estudiar totalidad expediente clínico poder llegar conclusión ” , decir .   momento , Secretaría Salud no haber encontrar evidencia fallecimiento Veracruz causa supuesto falsa quimioterapia , expediente clínico seguir ser analizado . recomeir familia paciente tener padecimiento oncológico , no desatiendar tratamiento , ser mucho delicado , poder comprometer estar hacer , medicamento atribuir situación anómalo , ser medicamento no recomendar niño ” , agregar .   Narro Robles precisar investigación no aún haber terminar , adelantar Secretaría Salud considerar presentar primero informe investigación miércoles jueves . jcp\n",
      "\n",
      "Ciudad México . Secretaría Relaciones Exteriores informar hoy Fidel Herrera Beltrán , desempeñar cónsul México Barcelona , presentar renuncia carácter irrevocable . breve comunicado , cancillería mexicano mencionar Herrera Beltrán asumir cargo 19 octubre 2015 , fin semana renunciar cargo . Herrera , gobernar Veracruz 2004 2010 , Javier Duarte Ochoa ( 2010-2016 ) , prófugo justicia , ser denunciar compra medicamento apócrifo tratamiento paciente cáncer . entrevista puerto Veracruz , gobernador Miguel Ángel Yunes Linares informar sábado secretario Salud estatal , Arturo Irán Suárez Villa , interponer denuncia Fiscalía General Estado ( FGE ) 23:20 hora pasado jueves dos ex mandatario . querella abarcar secretario Salud ambos gobierno , así director administrativo dependencia periodo 12 año ,   investigar adquisición fármaco clonado , precisar . Yunes Linares adelantar próximo lunes dar conocer nuevo lote medicamento planear suministrar paciente cáncer , ya tener conocimiento secretario Salud federal , José Narro Robles , haber comunicación atender caso . comienzos semana pasado , gobernador panista informar administración haber iniciar investigación probable suministro agua destilado lugar medicina niño cáncer , gobierno encabezado priísta Duarte Ochoa . indagatoria , incluir revisión inventario producto farmacéutico , fin identificar haber caduco irregular , deslindar responsabilidad servidor público integrante industria farmacéutico poder estar involucrado hecho .    \n",
      "\n",
      "ciudad MÉXICO Fidel Herrera , renunciar fin semana cónsul México Barcelona ( España ) , desvincular hoy cadena decisión compra medicamento falso ser gobernador estado mexicano Veracruz decir regresar país \" esclarecer hecho \" . exgobernador afirmar hoy emisora mexicano Radio Fórmula regresar México limpiar nombre . no ser ahora objetivo aspiración político ; querer primero esclarecer hecho demostrar ( inocencia ) , siempre haber hacer \" , indicar .   Herrera \" presentar renuncia carácter irrevocable fin semana \" cónsul ciudad español , posición haber asumir 2015 , informar domingo Secretaría Relaciones Exteriores ( SRE ) comunicado . pasado 17 enero , actual gobernador Veracruz , Miguel Ángel Yunes , denunciar antecesor Fidel Herrera Javier Duarte , último prófugo Justicia , comprar suministrar medicamento falso tratamiento quimioterapia enfermo cáncer . entrevista radiofónico , Yunes revelar compra medicamento falso comenzar Gobierno Herrera ( 2004-2010 ) descubrir Duarte ( 2010-2016 ) , mantener práctica . Herrera , político Partido Revolucionario Institucional ( PRI ) asegurar 15 octubre 2010 , final mandato , farmacéutica denunciar superior irregularidad frasco Avastin , medicamento aplicado adulto enfermo cáncer mama . apuntar medicina oncológico \" ser comprar manera apócrifo \" señalar \" medicamento adquirir recurso federal \" , procedimiento \" participar instancia autorizar licitación \" . sí saber ser listado trescientos proveedor sistema salud , caso ser titular Ejecutivo , ser , participar cadena decisión \" , resaltar .   exgobernador afirmar desconocer gestión comprar más medicamento falso , descartar tratar práctica regular . decir estar buscar documento adquisición sector salud demostrar inocencia . estar aplicado ahora haber saber ser denuncia caso Gobierno no estar fundado ser tanto calumniosa poder ser práctica regular \" .   ser tema infamante , monstruoso , horrible . deber caer él peso ley poder haber cometer acto tanto inhumano , también poder haber denunciar no haber existir \" , subrayar .   asc\n",
      "\n",
      "Ciudad México . secretario Salud , José Narro , anunciar día hoy trasladar Xalapa , Veracruz , equipo nueve persona Comisión Federal Protección Riesgos Sanitarios Subsecretaría Integración Desarrollo finalidad investigar fondo irregularidad poder haber él cometer tratamiento niño cáncer entidad . decir información disponible momento , no poder confirmar infante haber administrar agua destilado lugar tratamiento quimioterapia , sí saber -indicó- hacer año haber denuncia estado . breve entrevista previo inicio evento presentar Fundación ISSSTE secretario Narro sostener investigar denuncia hacer gobernador Veracruz , Miguel Ángel Yunes hacer día , incluir funcionario representante industria farmacéutico así revisión inventario medicamento Centro Oncológico Veracruz . lograr documentar haber anomalía , proceder penalmente contra presunto responsable , señalar .\n",
      "\n",
      "ciudad MÉXICO . Petróleos Mexicanos ( Pemex ) seguir ser empresa rentable México , capacidad regresar equilibrio financiero 2019 2020 , asegurar José Antonio González Anaya , director general . participar reunión plenario Partido Verde Ecologista , funcionario exponer escenario 2017 petrolera traer cambio tendencia positivo . no querer decir haber resolver problema Pemex , , primero vez 2012 , ir presentar superávit primario . superávit primario ser ingreso , egreso , menos servicio deuda . no tomárar cuenta deuda Pemex ya tener superávit primario tener gobierno federal ” , decir encuentro realizado Senado República .   pesar incertidumbre precio petróleo , González Anaya exponer Pemex seguir mostrar fortaleza . esfuerzo estar hacer Pemex poder regresar equilibrio financiero 2019 2020 . ser cosa casi sorprendente dar situación financiero empresa , considerar no estar hacer supuesto ilógico naturaleza , ser empresa fuerte negocio noble , chiste ser tener empresa eficiente manejar él criterio rentabilidad eficiencia ” , manifestar .   AGOTAMIENTO CANTARELL ... además , explicar factor agotamiento crudo yacimiento   Cantarell , “ vez ir ser más caro más difícil encontrar petróleo México , haber petróleo ” . embargo , aprovechar flexibilidad Reforma Energética , Pemex ir concentrar yacimiento rentable . ahora mandato ser sólo sacar petróleo ser rentable extraer , hacer estrategia agresivo alianza campo grande campo chico hacer contrato más ágil poder asignar tener riesgo ” , señalar .   mym\n",
      "\n",
      "NUEVO LEÓN ex medallista olímpico , Raúl González ‘ Matemático ’ , presentar jueves registro Instituto Nacional Electoral ( INE ) candidato independiente Senado estado nuevo León calificar hecho histórico . “ nunca antes deportista tener trayectoria destacado también tener experiencia administración público , no haber ser más deportista , tener logro relacionado vida personal llegar candidatura , producto apoyo ciudadano ” , expresar ex marchista estar acompañado familiar , simpatizante deportista . haber cubrir requisito , haber cumplir cabalidad estar lograr registro ” , compartir González después presentar documentación Consejo local órgano electoral . precisar parte obligación presentar plataforma electoral fundamentalmente tener contenido relacionado educación , salud , medio ambiente . “ eje transversal ser cultura físico deporte ” , detallar . comentar momento empezar campaña dar conocer públicamente contenido propuesta . ‘ Matemático ’ confesar sentir mucho motivado confianza poder ganar candidato independiente Senado . confianza dar gente , gracias casi 150 mil firma hacer posible hoy poder registrar ” , afirmar González destacar gozar respaldo nuevoleonés haber formar cultura trabajo esfuerzo . “ único compromiso querer tener ser gente apoyar voto ” , sostener . añadir gente ser ir deber . “ sistema partido ser sistema ser agotar gradualmente , dejar representar legítimamente ciudadano , interés ciudadano medida creer causa independiente ser fundamental , ser determinante poder cambiar sistema político mexicano ” , explicar . contexto , ex titular Instituto Deporte nuevo León ( INDE ) , revelar sentir mucho honrado haber apoyar ser primero candidato Senador independiente nuevo León . también poder leer : David Rogelio Colmenares , nuevo auditor superior Federación\n",
      "\n",
      "Angélica Enciso&nbsp;Periódico JornadaMartes 15 noviembre 2016 , p. 3el titular Auditoría Superior Federación ( ASF ) , Juan Manuel Portal , sostener haber denuncia hecho Procuraduría General República ( PGR ) menos 15 gobierno estatal , haber encontrar uso indebido recurso , precisar gobernador tener responsabilidad claro . Chihuahua , Quintana Roo , Puebla , Durango , ‘ ‘ prácticamente ’’ estado estar caso , no necesariamente gobernador , ser uso indebido recurso federal estado , presentar denuncia . gobernador tener responsabilidad claro omisión acción , ‘ ‘ denuncia no ir persona , ir hecho ’’ , explicar . recordar haber investigación hacer tiempo resultado revisión informe cuenta público . año presentar informe tener resultado tener ver estar pendiente aclarar él no solucionar presentar ‘ ‘ promoción responsabilidad administrativo denuncia hecho PGR . proceso estar permanentemente ’’ . conferencia magistral ética profesionalización prevención detección análisis fraude , titular Secretaría Función Pública , Arely Gómez , sostener entrevista dependencia entregar PGR información caso Javier Duarte , gobernador licencia Veracruz , aclarar ahora no poder pronunciar él acerca entrega información haber terminar , ‘ ‘ poder momento llevar estar trámite’’ . funcionaria federal , ex procuradora general República , rechazar hablar carta Duarte enviar Congreso Veracruz pedir reinstalación puesto , defender periodo estar frente PGR asegurar cuenta ahora ex gobernador prófugo , no precisar cuántas . ético servicio público intervención decena asistente conferencia informar dar indicación realizar acción concreto SFP . explicar materia ética pedir revisión actualización código ética administración público federal , guía identificar prevenir conflicto interés , política , lineamiento , guía manual ponerlo día siete ley Sistema Nacional Anticorrupción . , decir , contribuir hacer campaña sensibilización capacitación . Unidad Ética Prevención Conflicto Interés colaborar cerca dependencia federal acompañarla proceso actualización respectivo código conducta , agregar .\n",
      "\n",
      "Partido Revolucionario Institucional ( PRI ) llevar delantera preferencia electoral miras renovación gubernatura Estado México 20.4% , elección ser 4 junio 2017 . tricolor tener ventaja 6.1% Partido Acción Nacional ( PAN ) ocupar segundo lugar , 14.3% , encuesta elaborar UNIVERSAL 5 8 noviembre pasado . tratar ejercicio realizar entrevista mil ciudadano — cara cara — credencial elector vigente Estado México . siete mes jornada electoral , Partido Revolución Democrática ( PRD ) encontrar tercer lugar 9.7% preferencia electoral . vez , Morena alcanzar 5.1% intención voto . partido liderar Andrés Manuel López Obrador registrar disminución respecto medición ocurrir agosto pasado , alcanzar 6.6% . caso PRI , preferencia electoral aumentar respecto mes agosto , tener 19% ahora ser 20.4% . PAN prácticamente registrar número agosto 14.1% ahora 14.3% . partido sol azteca encontrar situación , hacer tres mes 9% ahora 9.7% . caso Partido Nueva Alianza ( Panal ) ser 1.1% preferencia electoral ; Encuentro Social ( PES ) 0.6% ; Partido Trabajo ( PT ) 0.6% ; Movimiento Ciudadano ( MC ) 0.3% , Partido Verde Ecologista México ( PVEM ) 0.1% — medición anterior ser 1.0% — .    Postura votante . 1.1% aseverar anular voto . porcentaje aumentar puesto agosto registrar 0.4% . también haber 27.5% entrevistado no declarar preferencia electoral . cifra disminuir comparación 29.9% registrar último medición , efectúo mes agosto pasado . 39% encuestado revelar estar mucho seguro partido afirmar votarir momento , 32.5% decir todavía poder cambiar opinión . sólo 28.2% entrevistado no contestar pregunta . ejercicio 59% entrevistado asegurar estar mucho seguro participar elección próximo 4 junio , 22.3% referir estar poco seguro 16.3% aseverar tal vez no ir emitir sufragio .    querer alternancia . vez , 6 cada 10 señalar ser mucho bueno cambiar partido gobernante Estado México . actualmente ser PRI gobernar entidad . 19.1% opinar no ser bueno malo cambiar partido , 12.9% considerar ser malo 6.7% decir no saber no contestar . pregunta ¿ partido nunca votar Estado México ? , decir no hacer PRI , 14.6% tampoco dar voto PRD , 8.1% no sufragar Morena , cuanto PAN , 7.2% decir no emitir sufragio partido . pregunta , 12.6% no declarar preferencia . Partido Trabajo tampoco votar 2.0% , 1.1% no hacer Nueva Alianza ; 0.8% tampoco emitir sufragio Partido Verde Ecologista . 12.6% no declarar preferencia . identidad partidario , 38% encuestado decir ser independiente , 25.6% afirmar estar indentificado PRI . 13.2% PAN , 7.8% PRD 4.2% Morena .    Cualidades valor . encuesta también ahondar rubro considerar ciudadano votar nuevo gobernador Estado México ( candidato , partido , experiencia , decir red social ) . 48.3% responder ser experiencia . momento desglosar cifra , porcentaje elevar votar primero vez 62.6% milenials ser 55.8% . 22% decir votar candidato . cifra subir 23% ya haber tener oportunidad votar , baja milenials , 20.4% . 12.5% señalar preferir partido , porcentaje subir preguntar ya haber votar . diferencia , milenials , baja 11.7% . rubro también sondear ser decir red social . caso , 6.9% considerar ser factor emitir voto próximo 4 junio . cifra bajo milenials , sólo comentar emitir sufragio basado . principal cualidad deber tener próximo gobernador , 39.8% entrevistado decir deber ser honesto . valor elevar ya poder votar vez , alcanzar 41.1% . ir emitir sufragio primero ocasión disminuir 29.6% milenials porcentaje alcanzar 33.1% . acuerdo encuesta levantar   UNIVERSAL , 31.9% entrevistado considerar postulir cumplir promesa . incrementar grupo milenials , opinar 33.8% ; 32.3% , ya participar elección gobernador mexiquense . votar primero vez detallar , 28% , ser cualidad tomar cuenta votar . tercero cualidad mencionar ser ser trabajador . así referir 5.6% , caso volver votar , bajar porcentaje 5.5% . subir participar primero vez 7.2% , milenials , 6.9% entrevistado .    Pendientes . 62% encuestado considerar inseguridad violencia ser principal problema enfrentar Estado México momento . seguir corrupción 17.9% . tercer lugar encontrar desempleo 4.8% cuarto posición estar crisis económico 2.8% . pobreza 2.7% malo administración gobierno 1.9% . problema considerar ser más urgente resolver próximo gobernador ser seguridad público 36.8% . seguir corrupción 14.7% , falta empleo , 9.3% pobreza 7.8% . tema agua colocar 6.2% Educación 4.8% .    Aprobación Eruviel . gestión actual gobernador entidad mexiquense , Eruviel Ávila Villegas , encuesta entrevistado indicar 43% aprueba aprobar totalmente forma gobierno priísta . 38.9% desapruebo desaprobar totalmente , 13% aprobar desaprobar gestión actual entidad mexiquense . pregunta cosa haber mejorar empeorado último año Estado México , entrevistado señalar 70% situación haber empeorar . 24.6% decir haber mejorar 5.3% no saber no contestar . también preguntar nivel nacional , entrevistado , ser habitante credencial elector vigente entidad mexiquense , aseverar país cosa haber empeorar . ser 81% . 13.5% referir haber mejorar , es decir , Estado México percepción ser superior , alcanzar 24.6% . vea encuesta : Ventaja tricolor Edomex\n",
      "\n",
      "actriz mexicano Edith González , 2016 ser diagnosticar cáncer ovario , declarar fan padecimiento año ataca casi 23 mil mujer también mama , Fundación Instituto Mexicano Seguro Social ( IMSS ) . “ ser fan cáncer ser ente vida inteligentísimo . haber entender él , haber estudiar él no haber dar él importancia , querer demos ” , resaltar González ser embajadora campaña _ HASHTAG _ presentar lunes . conferencia prensa , subrayar cáncer ser mucho manipulador , “ engañar célula , engañar cuerpo . entonces , ¿ no ser fan cosa tanto inteligente ? ser sobreviviente estar aquí ciencia así permitir , haber Dios cielo propio pulga ” . protagonista telenovela “ Doña Bárbara ” “ Eva , trailera ” considerar enfermedad deber desmitificar no temer él . “ malo noticia ser cáncer continuar esparcir él , buen ser clasificar enfermedad crónico . tanto deber ser difundir detección temprano mujer haber amarno , dar yo mano no dejarno ” . recordar oncóloga informar padecer mal etapa 4 , recibir noticia tratar condena muerte , tiempo aprender asimilar él manera . “ enfermo cáncer ser timonel familia . mantener actitud alegre , familia ir detrás . entonces , decir médico no tener miedo , haber ver luchar papá . morir cáncer más duro haber , vida dar sentido hacer diferencia ” , destacar . Edith González , encontrar etapa remisión someter él año tratamiento quimioterapia radioterapia , opinar enfermedad no deber ver monstruo tener dar batalla . “ ir amar cáncer , respetar él , no temer él , sí ver él urgencia . no preguntar , . ejemplo , hoy estar dar testimonio vida , amor compartir recetario ” . respecto último , recomendar mujer revisen cuerpo manera periódico vez diagnosticada no alarmar mantengan calma . “ no tomar serio . cáncer ser niño berrinchudo , no seguir juego , atiéndanse . Información ser poder . investiguir poder consultar médico especialista . desconfíe falso profeta . “ ofrecer producto mágico cura milagroso no ser así . embargo , milagro sí existir . tener forma físico ciencia , medicina , disciplina doctor . además , ser gran oportunidad liberar él rencor , lástima reclamo ; rodéese amor , llenir alma sonrisa jamás pierda esperanza , tenga fe ” . Edith González , 52 año , recomendar padecer cáncer no aíslar , procurir desmitificar palabra acercar él grupo sufrir . no tener cerca quiera , decir , “ adoptar perrito ” . referir plano laboral , actriz mencionar tener propuesta , calma elegir ideal . incluso , gustar interpretar mujer empoderado , ame vida ser fuerte . decir aún tener puesto catéter suministrar quimioterapia , breve tener quitárselo . asimismo , alista conferencia hablar tema continúar escribir libro biográfico . actriz ser embajadora buen voluntad campaña _ HASHTAG _ junto colega Michelle Renaud Bárbara Regil , así comunicador Mariano Osorio cantante Ha*Ash . rad\n",
      "\n",
      "Arturo Sánchez Jiménez&nbsp ; eriódico JornadaMiércoles7 marzo 2018 , . 37especialista Universidad Nacional Autónoma México ( UNAM ) presentar martes Clínica Atención Integral Adicciones ( Clia ) . reto espacio ser mostrar adicción ser problema salud mental . sociedad persistir estigma respecto tema , requerir atención no buscar . Silvia Ortiz , jefa Departamento Psiquiatría Salud Mental Facultad Medicina , pertenecer Clia , explicar nuevo instancia ser parte servicio ofrecer universidad comunidad . primero etapa atender únicamente miembro comunidad universitario 12 30 año edad . luchar estigma servicio salud mental siquiatra , especial . hacer persona no consultir especialista atender trastorno mental menos adicción , referir Ortiz . buscar tratamiento adicción ser atender siquiatra , ser sociedad mexicano doble estigma , considerar especialista . atender salud mental hacer 60 año presentar clínica integral adicción explicar hacer 60 año universidad ofrecer servicio atención salud mental siempre haber tener solicitud tratamiento adicción . Clia funcionar modelo multidisciplinario flexible innovador . universitario manera voluntario solicitir ser atender manera confidencial equipo trabajador social , siquiatra sicólogo – joven , mayoría – , acompañar familiar tratamiento . objetivo clínica ser universitario acudar recibir información consumo droga adicción , luego decidar requerir tratamiento . Clia , ser importante joven aprendar detectar riesgo adicción atender perspectiva salud público no punitivo . querer clínica hablar cosa forma directo ofrecer acompañamiento apoyo , referir Ortiz . sostener modo pensar promover consumo . bajo rendimiento escolar , cambio repentino conducta , depresión , afectación vida personal , trabajo familia , ser signo poder haber trastorno mental patrón consumo requerir atención . especialista señalar característica consumidor universitario no diferir resto población joven país . México , decir , encuesta adicción señalar joven usar sustancia tabaco , alcohol mariguán , consumo adicción ser problema aumento . Clia , puesta marcha planear año pasado , ubicar Departamento PSiquiatría Salud Mental Facultad Medicina , Ciudad Universitaria . servicio tener cuota recuperación 50 pesos consulta paciente deber presentar credencial actualizado máximo casa estudio recibir atención .\n",
      "\n"
     ]
    }
   ],
   "source": [
    "for i in arr:\n",
    "    print(corpus[i])"
   ]
  }
 ],
 "metadata": {
  "kernelspec": {
   "display_name": "Python 3",
   "language": "python",
   "name": "python3"
  },
  "language_info": {
   "codemirror_mode": {
    "name": "ipython",
    "version": 3
   },
   "file_extension": ".py",
   "mimetype": "text/x-python",
   "name": "python",
   "nbconvert_exporter": "python",
   "pygments_lexer": "ipython3",
   "version": "3.11.2"
  },
  "orig_nbformat": 4
 },
 "nbformat": 4,
 "nbformat_minor": 2
}
