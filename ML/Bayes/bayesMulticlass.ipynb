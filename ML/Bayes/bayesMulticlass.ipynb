{
 "cells": [
  {
   "cell_type": "markdown",
   "metadata": {},
   "source": [
    "# Multiclass Naive Bayes Classification\n",
    "\n",
    "## Overview\n",
    "This notebook demonstrates the application of a Naive Bayes classifier for multiclass text classification. It includes detailed steps for data preprocessing, model training, and evaluation, using techniques like cross-validation to validate the classifier's performance across multiple classes.\n",
    "\n",
    "## Functionality\n",
    "- **Data Preparation:** Organizes and preprocesses text data into training and validation sets.\n",
    "- **Multiclass Classification:** Implements a Naive Bayes model capable of handling multiple classes.\n",
    "- **Model Evaluation:** Uses metrics such as accuracy, precision, recall, and F1-scores to assess the model's effectiveness.\n",
    "\n",
    "## Key Features\n",
    "- **Detailed Implementation:** Covers all steps from data preparation to model evaluation.\n",
    "- **Multiclass Focus:** Specifically designed for scenarios involving multiple target classes.\n",
    "- **Educational Value:** Provides insights into both the practical and theoretical aspects of Naive Bayes classification.\n",
    "\n",
    "## Usage\n",
    "- Follow the steps to process the data, train the classifier, and perform evaluations.\n",
    "- Observe how the model performs across different classes and understand the classification dynamics.\n",
    "\n",
    "## Author\n",
    "- **Name:** Jesús Méndez\n",
    "\n",
    "Ideal for educational purposes, this notebook guides users through the process of setting up a Naive Bayes classifier for multiclass scenarios, making it suitable for academic learning and practical applications in text classification.\n"
   ]
  },
  {
   "cell_type": "code",
   "execution_count": 107,
   "metadata": {},
   "outputs": [],
   "source": [
    "import numpy as np\n",
    "import csv\n",
    "from sklearn.model_selection import train_test_split\n",
    "from sklearn.model_selection import KFold\n",
    "from sklearn.naive_bayes import GaussianNB\n",
    "from sklearn.metrics import accuracy_score\n",
    "from sklearn.metrics import classification_report, confusion_matrix, ConfusionMatrixDisplay\n",
    "import matplotlib.pyplot as plt"
   ]
  },
  {
   "attachments": {},
   "cell_type": "markdown",
   "metadata": {},
   "source": [
    "<h2>Recolectando los datos</h2>"
   ]
  },
  {
   "cell_type": "code",
   "execution_count": 108,
   "metadata": {},
   "outputs": [],
   "source": [
    "irisData = list()\n",
    "irisLabel = list()\n",
    "irisHeader = list()\n",
    "\n",
    "with open('iris.csv', 'r') as archivo_csv:\n",
    "    \n",
    "    lector_csv = csv.reader(archivo_csv)\n",
    "    \n",
    "    for linea in lector_csv:\n",
    "        # Procesar cada línea aquí\n",
    "        irisData.append(linea)  # Ejemplo: Imprimir la línea en la consola\n",
    "\n",
    "    irisHeader = irisData[0]\n",
    "    del irisData[0]\n",
    "\n",
    "for i in range(len(irisData)):\n",
    "    for j in range(len(irisData[i])):\n",
    "        if j != (len(irisData[i])-1):\n",
    "            irisData[i][j] = float(irisData[i][j])\n",
    "        else:\n",
    "            irisLabel.append(irisData[i][j])\n",
    "            del irisData[i][j]"
   ]
  },
  {
   "cell_type": "markdown",
   "metadata": {},
   "source": [
    "Separando en test y train"
   ]
  },
  {
   "cell_type": "code",
   "execution_count": 109,
   "metadata": {},
   "outputs": [],
   "source": [
    "X_train, X_test, y_train, y_test = train_test_split(irisData, irisLabel, test_size=0.3, random_state=0)"
   ]
  },
  {
   "cell_type": "markdown",
   "metadata": {},
   "source": [
    "Haciendo los 3 pliegues de validación"
   ]
  },
  {
   "cell_type": "code",
   "execution_count": 110,
   "metadata": {},
   "outputs": [],
   "source": [
    "def validacionCruzada(X_train,y_train, pliegues  = 3):\n",
    "   kf = KFold(n_splits=pliegues)\n",
    "\n",
    "   X_trainVC_out = list()\n",
    "   X_val_out = list()\n",
    "   y_trainVC_out = list()\n",
    "   y_val_out = list()\n",
    "\n",
    "   for train_index, val_index in kf.split(X_train):\n",
    "    # Obtener los conjuntos de entrenamiento y validación para esta iteración\n",
    "    X_trainVC, X_val = [X_train[i] for i in train_index], [X_train[i] for i in val_index]\n",
    "    # Hacer lo que sea necesario con los conjuntos de entrenamiento y validación para esta iteración\n",
    "    X_trainVC_out.append(X_trainVC)\n",
    "    X_val_out.append(X_val)\n",
    "\n",
    "\n",
    "   for train_index, val_index in kf.split(X_train):\n",
    "    y_trainVC, y_val = [y_train[i] for i in train_index], [y_train[i] for i in val_index]   \n",
    "    # Hacer lo que sea necesario con los conjuntos de entrenamiento y validación para esta iteración\n",
    "    y_trainVC_out.append(y_trainVC)\n",
    "    y_val_out.append(y_val)\n",
    "\n",
    "    \n",
    "   return X_trainVC_out, X_val_out, y_trainVC_out,y_val_out"
   ]
  },
  {
   "cell_type": "code",
   "execution_count": 111,
   "metadata": {},
   "outputs": [],
   "source": [
    "X_trainVC, X_val, y_trainVC,y_val = validacionCruzada(X_train,y_train)"
   ]
  },
  {
   "attachments": {},
   "cell_type": "markdown",
   "metadata": {},
   "source": [
    "Entrenamiento y prueba del clasificador de Naive Bayes con distribución normal"
   ]
  },
  {
   "cell_type": "code",
   "execution_count": 112,
   "metadata": {},
   "outputs": [
    {
     "name": "stdout",
     "output_type": "stream",
     "text": [
      "Accuracy del pliegue 1 : 0.9142857142857143\n",
      "Accuracy del pliegue 2 : 1.0\n",
      "Accuracy del pliegue 3 : 0.9428571428571428\n",
      "El promedio del accuracy de los 3 pliegues es 0.9523809523809522\n"
     ]
    }
   ],
   "source": [
    "from sklearn.naive_bayes import GaussianNB\n",
    "from sklearn.metrics import accuracy_score\n",
    "\n",
    "acc = np.array([])\n",
    "\n",
    "# Iterar sobre los pliegues de validación\n",
    "for fold in range(3):\n",
    "    # Obtener los datos del pliegue actual\n",
    "    X_train = X_trainVC[fold]\n",
    "    X_val_clf = X_val[fold]\n",
    "    y_train = y_trainVC[fold]\n",
    "    y_val_clf= y_val[fold]\n",
    "\n",
    "    # Crear una instancia del clasificador Naive Bayes\n",
    "    clf = GaussianNB()\n",
    "\n",
    "    # Entrenar el clasificador\n",
    "    clf.fit(X_train, y_train)\n",
    "\n",
    "    # Realizar predicciones en el conjunto de validación\n",
    "    y_pred = clf.predict(X_val_clf)\n",
    "\n",
    "    # Calcular el accuracy del pliegue actual\n",
    "    accuracy = accuracy_score(y_val_clf, y_pred)\n",
    "\n",
    "    # Imprimir el accuracy del pliegue actual\n",
    "    print(\"Accuracy del pliegue\", fold+1, \":\", accuracy)\n",
    "\n",
    "    acc = np.append(acc, accuracy)\n",
    "\n",
    "print(f'El promedio del accuracy de los 3 pliegues es {acc.mean()}')\n"
   ]
  },
  {
   "cell_type": "code",
   "execution_count": 113,
   "metadata": {},
   "outputs": [],
   "source": [
    "X_train, X_test, y_train, y_test = train_test_split(irisData, irisLabel, test_size=0.3, random_state=0)\n",
    "X_trainVC, X_val, y_trainVC,y_val = validacionCruzada(X_train,y_train)"
   ]
  },
  {
   "cell_type": "code",
   "execution_count": 114,
   "metadata": {},
   "outputs": [
    {
     "name": "stdout",
     "output_type": "stream",
     "text": [
      "Accuracy del pliegue 1 : 0.6\n",
      "Accuracy del pliegue 2 : 0.9428571428571428\n",
      "Accuracy del pliegue 3 : 0.6285714285714286\n",
      "El promedio del accuracy de los 3 pliegues es 0.7238095238095238\n"
     ]
    }
   ],
   "source": [
    "from sklearn.naive_bayes import MultinomialNB\n",
    "from sklearn.metrics import accuracy_score\n",
    "\n",
    "# Crear el clasificador Naive Bayes con distribución multinomial\n",
    "clf = MultinomialNB()\n",
    "\n",
    "acc = np.array([])\n",
    "\n",
    "# Iterar sobre los pliegues de validación\n",
    "for fold in range(3):\n",
    "    # Obtener los datos del pliegue actual\n",
    "    X_train = X_trainVC[fold]\n",
    "    X_val_clf = X_val[fold]\n",
    "    y_train = y_trainVC[fold]\n",
    "    y_val_clf= y_val[fold]\n",
    "\n",
    "\n",
    "    # Entrenar el clasificador\n",
    "    clf.fit(X_train, y_train)\n",
    "\n",
    "    # Realizar predicciones en el conjunto de validación\n",
    "    y_pred = clf.predict(X_val_clf)\n",
    "\n",
    "    # Calcular el accuracy del pliegue actual\n",
    "    accuracy = accuracy_score(y_val_clf, y_pred)\n",
    "\n",
    "    # Imprimir el accuracy del pliegue actual\n",
    "    print(\"Accuracy del pliegue\", fold+1, \":\", accuracy)\n",
    "\n",
    "    acc = np.append(acc, accuracy)\n",
    "\n",
    "print(f'El promedio del accuracy de los 3 pliegues es {acc.mean()}')\n"
   ]
  },
  {
   "attachments": {},
   "cell_type": "markdown",
   "metadata": {},
   "source": [
    "Debido a que el mejor clasificador fue el de distribución normal, usaremos nuevamente este clasificador"
   ]
  },
  {
   "cell_type": "code",
   "execution_count": 115,
   "metadata": {},
   "outputs": [],
   "source": [
    "X_train, X_test, y_train, y_test = train_test_split(irisData, irisLabel, test_size=0.3, random_state=0)"
   ]
  },
  {
   "cell_type": "code",
   "execution_count": 116,
   "metadata": {},
   "outputs": [
    {
     "name": "stdout",
     "output_type": "stream",
     "text": [
      "Reporte de Clasificación:\n",
      "                 precision    recall  f1-score   support\n",
      "\n",
      "    Iris-setosa       1.00      1.00      1.00        16\n",
      "Iris-versicolor       1.00      1.00      1.00        18\n",
      " Iris-virginica       1.00      1.00      1.00        11\n",
      "\n",
      "       accuracy                           1.00        45\n",
      "      macro avg       1.00      1.00      1.00        45\n",
      "   weighted avg       1.00      1.00      1.00        45\n",
      "\n"
     ]
    },
    {
     "data": {
      "image/png": "[encoded data removed]",
      "text/plain": [
       "<Figure size 640x480 with 2 Axes>"
      ]
     },
     "metadata": {},
     "output_type": "display_data"
    }
   ],
   "source": [
    "# Crear una instancia del clasificador Naive Bayes\n",
    "clf = GaussianNB()\n",
    "\n",
    "# Entrenar el clasificador\n",
    "clf.fit(X_train, y_train)\n",
    "\n",
    "# Realizar predicciones en el conjunto de validación\n",
    "y_pred = clf.predict(X_test)\n",
    "\n",
    "# Calcular y mostrar el reporte de clasificación\n",
    "reporte = classification_report(y_test, y_pred)\n",
    "print(\"Reporte de Clasificación:\")\n",
    "print(reporte)\n",
    "\n",
    "# Calcular y mostrar la matriz de confusión\n",
    "matriz_confusion = confusion_matrix(y_test, y_pred)\n",
    "matriz_display = ConfusionMatrixDisplay(matriz_confusion)\n",
    "matriz_display.plot()\n",
    "plt.title(\"Matriz de confusion - Clasificador: ({})\")\n",
    "plt.show()"
   ]
  }
 ],
 "metadata": {
  "kernelspec": {
   "display_name": "Python 3",
   "language": "python",
   "name": "python3"
  },
  "language_info": {
   "codemirror_mode": {
    "name": "ipython",
    "version": 3
   },
   "file_extension": ".py",
   "mimetype": "text/x-python",
   "name": "python",
   "nbconvert_exporter": "python",
   "pygments_lexer": "ipython3",
   "version": "3.11.2"
  },
  "orig_nbformat": 4
 },
 "nbformat": 4,
 "nbformat_minor": 2
}
