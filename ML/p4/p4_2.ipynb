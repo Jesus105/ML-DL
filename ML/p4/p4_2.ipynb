{
 "cells": [
  {
   "cell_type": "code",
   "execution_count": 40,
   "metadata": {},
   "outputs": [],
   "source": [
    "import numpy as np\n",
    "import csv\n",
    "from sklearn.model_selection import train_test_split\n",
    "from sklearn.model_selection import KFold\n",
    "from sklearn.naive_bayes import GaussianNB\n",
    "from sklearn.metrics import accuracy_score\n",
    "from sklearn.metrics import classification_report, confusion_matrix, ConfusionMatrixDisplay\n",
    "import matplotlib.pyplot as plt"
   ]
  },
  {
   "cell_type": "code",
   "execution_count": 41,
   "metadata": {},
   "outputs": [],
   "source": [
    "mailData = list()\n",
    "mailLabel = list()\n",
    "mailHeader = list()\n",
    "\n",
    "with open('emails.csv', 'r') as archivo_csv:\n",
    "    \n",
    "    lector_csv = csv.reader(archivo_csv)\n",
    "    \n",
    "    for linea in lector_csv:\n",
    "        # Procesar cada línea aquí\n",
    "        mailData.append(linea)  # Ejemplo: Imprimir la línea en la consola\n",
    "\n",
    "    mailHeader = mailData[0]\n",
    "    del mailData[0]\n",
    "\n",
    "for i in range(len(mailData)):\n",
    "    for j in range(len(mailData[i])):\n",
    "        \n",
    "        if j != (len(mailData[i])-1):\n",
    "            try:\n",
    "                mailData[i][j] = int(mailData[i][j])\n",
    "            except:\n",
    "                pass\n",
    "        else:\n",
    "            mailLabel.append(mailData[i][j])\n",
    "            del mailData[i][j]\n",
    "            del mailData[i][0]"
   ]
  },
  {
   "cell_type": "code",
   "execution_count": 50,
   "metadata": {},
   "outputs": [],
   "source": [
    "X_train, X_test, y_train, y_test = train_test_split(mailData, mailLabel, test_size=0.3, random_state=0,shuffle=True)"
   ]
  },
  {
   "cell_type": "code",
   "execution_count": 51,
   "metadata": {},
   "outputs": [],
   "source": [
    "def validacionCruzada(X_train,y_train, pliegues  = 3):\n",
    "   kf = KFold(n_splits=pliegues)\n",
    "\n",
    "   X_trainVC_out = list()\n",
    "   X_val_out = list()\n",
    "   y_trainVC_out = list()\n",
    "   y_val_out = list()\n",
    "\n",
    "   for train_index, val_index in kf.split(X_train):\n",
    "    # Obtener los conjuntos de entrenamiento y validación para esta iteración\n",
    "    X_trainVC, X_val = [X_train[i] for i in train_index], [X_train[i] for i in val_index]\n",
    "    # Hacer lo que sea necesario con los conjuntos de entrenamiento y validación para esta iteración\n",
    "    X_trainVC_out.append(X_trainVC)\n",
    "    X_val_out.append(X_val)\n",
    "\n",
    "\n",
    "   for train_index, val_index in kf.split(X_train):\n",
    "    y_trainVC, y_val = [y_train[i] for i in train_index], [y_train[i] for i in val_index]   \n",
    "    # Hacer lo que sea necesario con los conjuntos de entrenamiento y validación para esta iteración\n",
    "    y_trainVC_out.append(y_trainVC)\n",
    "    y_val_out.append(y_val)\n",
    "\n",
    "    \n",
    "   return X_trainVC_out, X_val_out, y_trainVC_out,y_val_out"
   ]
  },
  {
   "cell_type": "code",
   "execution_count": 52,
   "metadata": {},
   "outputs": [],
   "source": [
    "X_trainVC, X_val, y_trainVC,y_val = validacionCruzada(X_train,y_train)"
   ]
  },
  {
   "cell_type": "code",
   "execution_count": 53,
   "metadata": {},
   "outputs": [
    {
     "name": "stdout",
     "output_type": "stream",
     "text": [
      "Accuracy del pliegue 1 : 0.947804473902237\n",
      "Accuracy del pliegue 2 : 0.9428334714167357\n",
      "Accuracy del pliegue 3 : 0.9494195688225538\n",
      "El promedio del accuracy de los 3 pliegues es 0.9466858380471755\n"
     ]
    }
   ],
   "source": [
    "from sklearn.naive_bayes import GaussianNB\n",
    "from sklearn.metrics import accuracy_score\n",
    "\n",
    "acc = np.array([])\n",
    "\n",
    "# Iterar sobre los pliegues de validación\n",
    "for fold in range(3):\n",
    "    # Obtener los datos del pliegue actual\n",
    "    X_train = X_trainVC[fold]\n",
    "    X_val_clf = X_val[fold]\n",
    "    y_train = y_trainVC[fold]\n",
    "    y_val_clf= y_val[fold]\n",
    "\n",
    "    # Crear una instancia del clasificador Naive Bayes\n",
    "    clf = GaussianNB()\n",
    "\n",
    "    # Entrenar el clasificador\n",
    "    clf.fit(X_train, y_train)\n",
    "\n",
    "    # Realizar predicciones en el conjunto de validación\n",
    "    y_pred = clf.predict(X_val_clf)\n",
    "\n",
    "    # Calcular el accuracy del pliegue actual\n",
    "    accuracy = accuracy_score(y_val_clf, y_pred)\n",
    "\n",
    "    # Imprimir el accuracy del pliegue actual\n",
    "    print(\"Accuracy del pliegue\", fold+1, \":\", accuracy)\n",
    "\n",
    "    acc = np.append(acc, accuracy)\n",
    "\n",
    "print(f'El promedio del accuracy de los 3 pliegues es {acc.mean()}')\n"
   ]
  },
  {
   "cell_type": "code",
   "execution_count": 54,
   "metadata": {},
   "outputs": [],
   "source": [
    "X_train, X_test, y_train, y_test = train_test_split(mailData, mailLabel, test_size=0.3, random_state=0)\n",
    "X_trainVC, X_val, y_trainVC,y_val = validacionCruzada(X_train,y_train)"
   ]
  },
  {
   "cell_type": "code",
   "execution_count": 55,
   "metadata": {},
   "outputs": [
    {
     "name": "stdout",
     "output_type": "stream",
     "text": [
      "Accuracy del pliegue 1 : 0.9453189726594863\n",
      "Accuracy del pliegue 2 : 0.9378624689312345\n",
      "Accuracy del pliegue 3 : 0.9469320066334992\n",
      "El promedio del accuracy de los 3 pliegues es 0.9433711494080734\n"
     ]
    }
   ],
   "source": [
    "from sklearn.naive_bayes import MultinomialNB\n",
    "from sklearn.metrics import accuracy_score\n",
    "\n",
    "# Crear el clasificador Naive Bayes con distribución multinomial\n",
    "clf = MultinomialNB()\n",
    "\n",
    "acc = np.array([])\n",
    "\n",
    "# Iterar sobre los pliegues de validación\n",
    "for fold in range(3):\n",
    "    # Obtener los datos del pliegue actual\n",
    "    X_train = X_trainVC[fold]\n",
    "    X_val_clf = X_val[fold]\n",
    "    y_train = y_trainVC[fold]\n",
    "    y_val_clf= y_val[fold]\n",
    "\n",
    "\n",
    "    # Entrenar el clasificador\n",
    "    clf.fit(X_train, y_train)\n",
    "\n",
    "    # Realizar predicciones en el conjunto de validación\n",
    "    y_pred = clf.predict(X_val_clf)\n",
    "\n",
    "    # Calcular el accuracy del pliegue actual\n",
    "    accuracy = accuracy_score(y_val_clf, y_pred)\n",
    "\n",
    "    # Imprimir el accuracy del pliegue actual\n",
    "    print(\"Accuracy del pliegue\", fold+1, \":\", accuracy)\n",
    "\n",
    "    acc = np.append(acc, accuracy)\n",
    "\n",
    "print(f'El promedio del accuracy de los 3 pliegues es {acc.mean()}')\n"
   ]
  },
  {
   "cell_type": "code",
   "execution_count": 56,
   "metadata": {},
   "outputs": [],
   "source": [
    "X_train, X_test, y_train, y_test = train_test_split(mailData, mailLabel, test_size=0.3, random_state=0)"
   ]
  },
  {
   "cell_type": "code",
   "execution_count": 57,
   "metadata": {},
   "outputs": [
    {
     "name": "stdout",
     "output_type": "stream",
     "text": [
      "Reporte de Clasificación:\n",
      "              precision    recall  f1-score   support\n",
      "\n",
      "           0       0.98      0.95      0.96      1111\n",
      "           1       0.88      0.95      0.91       441\n",
      "\n",
      "    accuracy                           0.95      1552\n",
      "   macro avg       0.93      0.95      0.94      1552\n",
      "weighted avg       0.95      0.95      0.95      1552\n",
      "\n"
     ]
    },
    {
     "data": {
      "image/png": "[encoded data removed]",
      "text/plain": [
       "<Figure size 640x480 with 2 Axes>"
      ]
     },
     "metadata": {},
     "output_type": "display_data"
    }
   ],
   "source": [
    "# Crear una instancia del clasificador Naive Bayes\n",
    "clf = GaussianNB()\n",
    "\n",
    "# Entrenar el clasificador\n",
    "clf.fit(X_train, y_train)\n",
    "\n",
    "# Realizar predicciones en el conjunto de validación\n",
    "y_pred = clf.predict(X_test)\n",
    "\n",
    "# Calcular y mostrar el reporte de clasificación\n",
    "reporte = classification_report(y_test, y_pred)\n",
    "print(\"Reporte de Clasificación:\")\n",
    "print(reporte)\n",
    "\n",
    "# Calcular y mostrar la matriz de confusión\n",
    "matriz_confusion = confusion_matrix(y_test, y_pred)\n",
    "\n",
    "\n",
    "matriz_display = ConfusionMatrixDisplay(matriz_confusion)\n",
    "matriz_display.plot()\n",
    "plt.title(\"Matriz de confusion - Clasificador: ({})\")\n",
    "plt.show()"
   ]
  }
 ],
 "metadata": {
  "kernelspec": {
   "display_name": "Python 3",
   "language": "python",
   "name": "python3"
  },
  "language_info": {
   "codemirror_mode": {
    "name": "ipython",
    "version": 3
   },
   "file_extension": ".py",
   "mimetype": "text/x-python",
   "name": "python",
   "nbconvert_exporter": "python",
   "pygments_lexer": "ipython3",
   "version": "3.11.2"
  },
  "orig_nbformat": 4
 },
 "nbformat": 4,
 "nbformat_minor": 2
}
