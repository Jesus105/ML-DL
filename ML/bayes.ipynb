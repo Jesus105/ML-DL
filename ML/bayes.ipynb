{
 "cells": [
  {
   "cell_type": "code",
   "execution_count": 15,
   "metadata": {},
   "outputs": [],
   "source": [
    "from itertools import chain\n",
    "import math"
   ]
  },
  {
   "cell_type": "code",
   "execution_count": 2,
   "metadata": {},
   "outputs": [],
   "source": [
    "documents = [['just','plain','boring'],['entirely','predictable','and','lacks','energy'],['no','surprises','and','very','few','laughs'],['very','powerful'],['the','most','fun','film','of','the','summer']]\n",
    "#documents = [['chinese','beijing','chinese'], ['chinese','chinese','shangai'],['chinese','macao'],['tokio','japan','chinese']]\n",
    "docClass = [False, False, False, True,True]\n",
    "\n",
    "words = list(set(chain(*documents)))\n"
   ]
  },
  {
   "cell_type": "code",
   "execution_count": 3,
   "metadata": {},
   "outputs": [
    {
     "data": {
      "text/plain": [
       "['few',\n",
       " 'film',\n",
       " 'summer',\n",
       " 'energy',\n",
       " 'boring',\n",
       " 'entirely',\n",
       " 'and',\n",
       " 'predictable',\n",
       " 'the',\n",
       " 'most',\n",
       " 'fun',\n",
       " 'lacks',\n",
       " 'surprises',\n",
       " 'plain',\n",
       " 'no',\n",
       " 'powerful',\n",
       " 'of',\n",
       " 'laughs',\n",
       " 'very',\n",
       " 'just']"
      ]
     },
     "execution_count": 3,
     "metadata": {},
     "output_type": "execute_result"
    }
   ],
   "source": [
    "words"
   ]
  },
  {
   "cell_type": "code",
   "execution_count": 4,
   "metadata": {},
   "outputs": [],
   "source": [
    "posDocs= list()\n",
    "negDocs = list()\n",
    "\n",
    "for i in range(len(docClass)):\n",
    "    if docClass[i]:\n",
    "        posDocs.append(documents[i])\n",
    "    else:\n",
    "        negDocs.append(documents[i])\n",
    "\n"
   ]
  },
  {
   "cell_type": "code",
   "execution_count": 5,
   "metadata": {},
   "outputs": [],
   "source": [
    "probPositiveNom = docClass.count(True)\n",
    "probPositivDen = len(docClass)\n",
    "probNegativeNom = docClass.count(False)\n",
    "probNegativeDen = len(docClass)"
   ]
  },
  {
   "cell_type": "code",
   "execution_count": 6,
   "metadata": {},
   "outputs": [],
   "source": [
    "posWords = list()\n",
    "negWords = list()\n",
    "\n",
    "for i in words:\n",
    "    aux = 0\n",
    "    for lista in range(len(negDocs)):\n",
    "        aux += negDocs[lista].count(i)\n",
    "    negWords.append(aux)\n",
    "\n",
    "for i in words:\n",
    "    aux = 0\n",
    "    for lista in range(len(posDocs)):\n",
    "        aux += posDocs[lista].count(i)\n",
    "    posWords.append(aux)\n",
    "    "
   ]
  },
  {
   "cell_type": "code",
   "execution_count": 7,
   "metadata": {},
   "outputs": [
    {
     "name": "stdout",
     "output_type": "stream",
     "text": [
      "[['very', 'powerful'], ['the', 'most', 'fun', 'film', 'of', 'the', 'summer']]\n",
      "['very', 'powerful']\n",
      "['the', 'most', 'fun', 'film', 'of', 'the', 'summer']\n"
     ]
    }
   ],
   "source": [
    "numPosWords = 0\n",
    "numNegWords = 0\n",
    "\n",
    "print(posDocs)\n",
    "\n",
    "for doc in posDocs:\n",
    "    print(doc)\n",
    "    numPosWords += len(doc)\n",
    "\n",
    "for doc in negDocs:\n",
    "      numNegWords += len(doc)"
   ]
  },
  {
   "cell_type": "code",
   "execution_count": 8,
   "metadata": {},
   "outputs": [
    {
     "name": "stdout",
     "output_type": "stream",
     "text": [
      "9\n"
     ]
    }
   ],
   "source": [
    "print(numPosWords)"
   ]
  },
  {
   "cell_type": "code",
   "execution_count": 9,
   "metadata": {},
   "outputs": [],
   "source": [
    "probWordPosNom = list()\n",
    "probWordNegNom = list()\n",
    "probWordPosDen = list()\n",
    "probWordNegDen = list()\n",
    "\n",
    "\n",
    "for i in range(len(words)):\n",
    "    probWordPosNom.append((posWords[i]+1))\n",
    "    probWordPosDen.append((numPosWords+len(words)))\n",
    "\n",
    "    probWordNegNom.append((negWords[i]+1))\n",
    "    probWordNegDen.append((numNegWords+len(words)))\n"
   ]
  },
  {
   "cell_type": "code",
   "execution_count": 10,
   "metadata": {},
   "outputs": [
    {
     "data": {
      "text/plain": [
       "['few',\n",
       " 'film',\n",
       " 'summer',\n",
       " 'energy',\n",
       " 'boring',\n",
       " 'entirely',\n",
       " 'and',\n",
       " 'predictable',\n",
       " 'the',\n",
       " 'most',\n",
       " 'fun',\n",
       " 'lacks',\n",
       " 'surprises',\n",
       " 'plain',\n",
       " 'no',\n",
       " 'powerful',\n",
       " 'of',\n",
       " 'laughs',\n",
       " 'very',\n",
       " 'just']"
      ]
     },
     "execution_count": 10,
     "metadata": {},
     "output_type": "execute_result"
    }
   ],
   "source": [
    "words"
   ]
  },
  {
   "cell_type": "code",
   "execution_count": 11,
   "metadata": {},
   "outputs": [
    {
     "name": "stdout",
     "output_type": "stream",
     "text": [
      "1/29\n",
      "2/29\n",
      "2/29\n",
      "1/29\n",
      "1/29\n",
      "1/29\n",
      "1/29\n",
      "1/29\n",
      "3/29\n",
      "2/29\n",
      "2/29\n",
      "1/29\n",
      "1/29\n",
      "1/29\n",
      "1/29\n",
      "2/29\n",
      "2/29\n",
      "1/29\n",
      "2/29\n",
      "1/29\n"
     ]
    }
   ],
   "source": [
    "from fractions import Fraction\n",
    "\n",
    "for i in range(len(probWordPosDen)):\n",
    "\n",
    "    resultado_fraccion = Fraction(probWordPosNom[i], probWordPosDen[i])\n",
    "\n",
    "    print(resultado_fraccion)  # Imprime 5"
   ]
  },
  {
   "cell_type": "code",
   "execution_count": 12,
   "metadata": {},
   "outputs": [
    {
     "name": "stdout",
     "output_type": "stream",
     "text": [
      "1/17\n",
      "1/34\n",
      "1/34\n",
      "1/17\n",
      "1/17\n",
      "1/17\n",
      "3/34\n",
      "1/17\n",
      "1/34\n",
      "1/34\n",
      "1/34\n",
      "1/17\n",
      "1/17\n",
      "1/17\n",
      "1/17\n",
      "1/34\n",
      "1/34\n",
      "1/17\n",
      "1/17\n",
      "1/17\n"
     ]
    }
   ],
   "source": [
    "from fractions import Fraction\n",
    "\n",
    "for i in range(len(probWordNegDen)):\n",
    "\n",
    "    resultado_fraccion = Fraction(probWordNegNom[i], probWordNegDen[i])\n",
    "\n",
    "    print(resultado_fraccion)  # Imprime 5"
   ]
  },
  {
   "attachments": {},
   "cell_type": "markdown",
   "metadata": {},
   "source": [
    "1)"
   ]
  },
  {
   "cell_type": "code",
   "execution_count": 45,
   "metadata": {},
   "outputs": [
    {
     "name": "stdout",
     "output_type": "stream",
     "text": [
      "4/121945\n",
      "3.2801672885317154e-05\n"
     ]
    }
   ],
   "source": [
    "predict = ['predictable','with','no','fun']\n",
    "\n",
    "predictNom = 1\n",
    "predictDen = 1\n",
    "\n",
    "for i in predict:\n",
    "    try:\n",
    "        predictNom *= probWordPosNom[words.index(i)]\n",
    "        predictDen *= probWordPosDen[words.index(i)]\n",
    "    except:\n",
    "        pass\n",
    "\n",
    "predictNom *= probPositiveNom\n",
    "predictDen *= probPositivDen\n",
    "f = Fraction(predictNom,predictDen)\n",
    "\n",
    "print(f)\n",
    "print(predictNom/predictDen)"
   ]
  },
  {
   "attachments": {},
   "cell_type": "markdown",
   "metadata": {},
   "source": [
    "2."
   ]
  },
  {
   "cell_type": "code",
   "execution_count": 29,
   "metadata": {},
   "outputs": [
    {
     "name": "stdout",
     "output_type": "stream",
     "text": [
      "-10.32503104127363\n"
     ]
    }
   ],
   "source": [
    "predict = ['predictable','with','no','fun']\n",
    "\n",
    "prob = 0\n",
    "\n",
    "for i in predict:\n",
    "    try:\n",
    "        prob += math.log(probWordPosNom[words.index(i)]/probWordPosDen[words.index(i)])\n",
    "    except:\n",
    "        pass\n",
    "\n",
    "prob += math.log(probPositiveNom/probPositivDen)\n",
    "\n",
    "print(prob)\n"
   ]
  },
  {
   "attachments": {},
   "cell_type": "markdown",
   "metadata": {},
   "source": [
    "3."
   ]
  },
  {
   "cell_type": "code",
   "execution_count": 46,
   "metadata": {},
   "outputs": [
    {
     "name": "stdout",
     "output_type": "stream",
     "text": [
      "3/49130\n",
      "6.106248727864848e-05\n"
     ]
    }
   ],
   "source": [
    "predict = ['predictable','with','no','fun']\n",
    "\n",
    "predictNom = 1\n",
    "predictDen = 1\n",
    "\n",
    "for i in predict:\n",
    "    try:\n",
    "        predictNom *= probWordNegNom[words.index(i)]\n",
    "        predictDen *= probWordNegDen[words.index(i)]\n",
    "    except:\n",
    "        pass\n",
    "\n",
    "predictNom *= probNegativeNom\n",
    "predictDen *= probNegativeDen\n",
    "f = Fraction(predictNom,predictDen)\n",
    "\n",
    "print(f)\n",
    "print(predictNom/predictDen)"
   ]
  },
  {
   "attachments": {},
   "cell_type": "markdown",
   "metadata": {},
   "source": [
    "4."
   ]
  },
  {
   "cell_type": "code",
   "execution_count": 30,
   "metadata": {},
   "outputs": [
    {
     "name": "stdout",
     "output_type": "stream",
     "text": [
      "-9.703612836494584\n"
     ]
    }
   ],
   "source": [
    "predict = ['predictable','with','no','fun']\n",
    "\n",
    "prob = 0\n",
    "\n",
    "for i in predict:\n",
    "    try:\n",
    "        prob += math.log(probWordNegNom[words.index(i)]/probWordNegDen[words.index(i)])\n",
    "    except:\n",
    "        pass\n",
    "\n",
    "prob += math.log(probNegativeNom/probNegativeDen)\n",
    "\n",
    "print(prob)\n"
   ]
  },
  {
   "attachments": {},
   "cell_type": "markdown",
   "metadata": {},
   "source": [
    "6."
   ]
  },
  {
   "cell_type": "code",
   "execution_count": 44,
   "metadata": {},
   "outputs": [
    {
     "name": "stdout",
     "output_type": "stream",
     "text": [
      "3/2890\n",
      "0.0010380622837370243\n"
     ]
    }
   ],
   "source": [
    "predict = ['very','fun']\n",
    "\n",
    "predictNom = 1\n",
    "predictDen = 1\n",
    "\n",
    "for i in predict:\n",
    "    try:\n",
    "        predictNom *= probWordNegNom[words.index(i)]\n",
    "        predictDen *= probWordNegDen[words.index(i)]\n",
    "    except:\n",
    "        pass\n",
    "\n",
    "predictNom *= probNegativeNom\n",
    "predictDen *= probNegativeDen\n",
    "\n",
    "f = Fraction(predictNom,predictDen)\n",
    "\n",
    "print(f)\n",
    "print(predictNom/predictDen)"
   ]
  },
  {
   "attachments": {},
   "cell_type": "markdown",
   "metadata": {},
   "source": [
    "7."
   ]
  },
  {
   "cell_type": "code",
   "execution_count": 37,
   "metadata": {},
   "outputs": [
    {
     "name": "stdout",
     "output_type": "stream",
     "text": [
      "-6.870399492438368\n"
     ]
    }
   ],
   "source": [
    "predict = ['very','fun']\n",
    "\n",
    "prob = 0\n",
    "\n",
    "for i in predict:\n",
    "    try:\n",
    "        prob += math.log(probWordNegNom[words.index(i)]/probWordNegDen[words.index(i)])\n",
    "    except:\n",
    "        pass\n",
    "\n",
    "prob += math.log(probNegativeNom/probNegativeDen)\n",
    "\n",
    "print(prob)"
   ]
  },
  {
   "attachments": {},
   "cell_type": "markdown",
   "metadata": {},
   "source": [
    "8."
   ]
  },
  {
   "cell_type": "code",
   "execution_count": 43,
   "metadata": {},
   "outputs": [
    {
     "name": "stdout",
     "output_type": "stream",
     "text": [
      "8/4205\n",
      "0.0019024970273483948\n"
     ]
    }
   ],
   "source": [
    "predict = ['very','fun']\n",
    "\n",
    "predictNom = 1\n",
    "predictDen = 1\n",
    "\n",
    "for i in predict:\n",
    "    try:\n",
    "        predictNom *= probWordPosNom[words.index(i)]\n",
    "        predictDen *= probWordPosDen[words.index(i)]\n",
    "    except:\n",
    "        pass\n",
    "\n",
    "predictNom *= probPositiveNom\n",
    "predictDen *= probPositivDen\n",
    "\n",
    "print(f'{predictNom}/{predictDen}')\n",
    "print(predictNom/predictDen)"
   ]
  },
  {
   "attachments": {},
   "cell_type": "markdown",
   "metadata": {},
   "source": [
    "9."
   ]
  },
  {
   "cell_type": "code",
   "execution_count": 42,
   "metadata": {},
   "outputs": [
    {
     "name": "stdout",
     "output_type": "stream",
     "text": [
      "-6.264588030727213\n"
     ]
    }
   ],
   "source": [
    "predict = ['very','fun']\n",
    "prob = 0\n",
    "\n",
    "for i in predict:\n",
    "    try:\n",
    "        prob += math.log(probWordPosNom[words.index(i)]/probWordPosDen[words.index(i)])\n",
    "    except:\n",
    "        pass\n",
    "\n",
    "prob += math.log(probPositiveNom/probPositivDen)\n",
    "\n",
    "print(prob)"
   ]
  }
 ],
 "metadata": {
  "kernelspec": {
   "display_name": "Python 3",
   "language": "python",
   "name": "python3"
  },
  "language_info": {
   "codemirror_mode": {
    "name": "ipython",
    "version": 3
   },
   "file_extension": ".py",
   "mimetype": "text/x-python",
   "name": "python",
   "nbconvert_exporter": "python",
   "pygments_lexer": "ipython3",
   "version": "3.11.2"
  },
  "orig_nbformat": 4
 },
 "nbformat": 4,
 "nbformat_minor": 2
}
