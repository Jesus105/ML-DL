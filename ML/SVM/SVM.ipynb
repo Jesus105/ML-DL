{
 "cells": [
  {
   "cell_type": "markdown",
   "metadata": {},
   "source": [
    "# Support Vector Machine Visualization\n",
    "\n",
    "## Overview\n",
    "This Jupyter notebook explores the principles of Support Vector Machines (SVMs) through visual demonstrations. It includes plotting quadratic functions and vectors, likely related to understanding the geometric interpretation of SVM decision boundaries.\n",
    "\n",
    "## Objectives\n",
    "- **Function Visualization:** Illustrate how quadratic functions can be graphically represented, which is essential for visualizing decision surfaces in SVM.\n",
    "- **Vector Illustration:** Demonstrate the plotting of vectors that may represent support vectors or other critical elements in SVM.\n",
    "- **Graphical Annotations:** Use annotations to enhance understanding of graphical outputs, making it easier to visualize complex mathematical concepts.\n",
    "\n",
    "## Key Features\n",
    "- **Quadratic Function Plot:** Detailed steps to plot a quadratic function and analyze its properties graphically.\n",
    "- **Vector Graphics:** Techniques to add vectors to plots, which can simulate aspects of SVM training like the separation margin.\n",
    "- **Interactive Visualization:** Utilize interactive plot features to better understand the dynamics of SVM.\n",
    "\n",
    "## Usage\n",
    "- Execute each cell to see the step-by-step construction of the plots.\n",
    "- Modify parameters to see how changes affect the visualization and interpretation of SVM models.\n",
    "\n",
    "## Author\n",
    "- **Name:** Jesús Méndez\n",
    "\n",
    "This notebook is ideal for students and professionals who are beginning to explore machine learning, providing a visual foundation in understanding one of the more complex classifiers, the Support Vector Machine.\n"
   ]
  },
  {
   "cell_type": "code",
   "execution_count": 1,
   "metadata": {},
   "outputs": [],
   "source": [
    "import numpy as np"
   ]
  },
  {
   "cell_type": "code",
   "execution_count": 2,
   "metadata": {},
   "outputs": [
    {
     "name": "stdout",
     "output_type": "stream",
     "text": [
      "Media positiva :[4.8 5.8]\n",
      "Media negativa :[1.8 1.4]\n"
     ]
    }
   ],
   "source": [
    "positivePoints = np.array([[5,7],[6,6],[5,5],[4,5],[4,6]])\n",
    "negativePoints = np.array([[1,1],[2,1],[3,1],[1,2],[2,2]])\n",
    "\n",
    "meanPositive = np.mean(positivePoints, axis=0)\n",
    "meanNegative = np.mean(negativePoints, axis=0)\n",
    "\n",
    "\n",
    "print(f'Media positiva :{meanPositive}')\n",
    "print(f'Media negativa :{meanNegative}')"
   ]
  },
  {
   "cell_type": "code",
   "execution_count": 3,
   "metadata": {},
   "outputs": [
    {
     "name": "stdout",
     "output_type": "stream",
     "text": [
      "Vector C: [3.3 3.6]\n",
      "Magnitud vector C: 4.8836461788299115\n"
     ]
    }
   ],
   "source": [
    "vectorC = (meanPositive + meanNegative) / 2\n",
    "\n",
    "print(f'Vector C: {vectorC}')\n",
    "\n",
    "magnitud = (vectorC[0]**2+vectorC[1]**2)**0.5\n",
    "print(f'Magnitud vector C: {magnitud}')"
   ]
  },
  {
   "cell_type": "code",
   "execution_count": 4,
   "metadata": {},
   "outputs": [
    {
     "name": "stdout",
     "output_type": "stream",
     "text": [
      "Proyeccion alpha 1 sobre vector C: 4.2386363061542625\n",
      "El vector [3 3] pertenece a la clase negativa\n"
     ]
    }
   ],
   "source": [
    "alpha1 = np.array([3,3])\n",
    "proyeccion = ((alpha1[0]*vectorC[0])+(alpha1[1]*vectorC[1]))/magnitud\n",
    "\n",
    "print(f'Proyeccion alpha 1 sobre vector C: {proyeccion}')\n",
    "\n",
    "print(f'El vector {alpha1} pertenece a la clase {\"positiva\" if proyeccion > magnitud  else \"negativa\"}' )\n"
   ]
  },
  {
   "cell_type": "code",
   "execution_count": 5,
   "metadata": {},
   "outputs": [
    {
     "name": "stdout",
     "output_type": "stream",
     "text": [
      "Proyeccion alpha 2 sobre vector C: 4.300065817837659\n",
      "El vector [2 4] pertenece a la clase negativa\n"
     ]
    }
   ],
   "source": [
    "alpha2 = np.array([2,4])\n",
    "proyeccion = ((alpha2[0]*vectorC[0])+(alpha2[1]*vectorC[1]))/magnitud\n",
    "\n",
    "print(f'Proyeccion alpha 2 sobre vector C: {proyeccion}')\n",
    "\n",
    "print(f'El vector {alpha2} pertenece a la clase {\"positiva\" if proyeccion > magnitud  else \"negativa\"}' )\n",
    "\n"
   ]
  },
  {
   "cell_type": "code",
   "execution_count": 6,
   "metadata": {},
   "outputs": [
    {
     "name": "stdout",
     "output_type": "stream",
     "text": [
      "Proyeccion alpha 3 sobre vector C: 5.651515074872351\n",
      "El vector [4 4] pertenece a la clase positiva\n"
     ]
    }
   ],
   "source": [
    "alpha3 = np.array([4,4])\n",
    "proyeccion = ((alpha3[0]*vectorC[0])+(alpha3[1]*vectorC[1]))/magnitud\n",
    "\n",
    "print(f'Proyeccion alpha 3 sobre vector C: {proyeccion}')\n",
    "\n",
    "\n",
    "print(f'El vector {alpha3} pertenece a la clase {\"positiva\" if proyeccion > magnitud  else \"negativa\"}' )\n"
   ]
  },
  {
   "cell_type": "code",
   "execution_count": 7,
   "metadata": {},
   "outputs": [
    {
     "name": "stdout",
     "output_type": "stream",
     "text": [
      "[3.3 3.6]\n"
     ]
    }
   ],
   "source": [
    "punto_conocido = np.array([0, 0])  # Punto conocido en la recta\n",
    "\n",
    "recta_paralela = punto_conocido + vectorC\n",
    "\n",
    "print(recta_paralela)\n"
   ]
  },
  {
   "cell_type": "code",
   "execution_count": 8,
   "metadata": {},
   "outputs": [
    {
     "data": {
      "image/png": "[encoded data removed]",
      "text/plain": [
       "<Figure size 640x480 with 1 Axes>"
      ]
     },
     "metadata": {},
     "output_type": "display_data"
    }
   ],
   "source": [
    "import numpy as np\n",
    "import matplotlib.pyplot as plt\n",
    "\n",
    "# Valores de x\n",
    "x = np.linspace(0, 10, 100)\n",
    "\n",
    "# Función cuadrática\n",
    "def funcion(x):\n",
    "    angulo_grados = np.rad2deg(np.arctan2(vectorC[1], vectorC[0]))\n",
    "    return ((-1/angulo_grados)*(x-vectorC[0]))+vectorC[1]\n",
    "\n",
    "# Evaluar la función en los valores de x\n",
    "y = funcion(x)\n",
    "\n",
    "# Graficar la función con línea roja\n",
    "plt.plot(x, y, color='red')\n",
    "# Graficar el vector\n",
    "plt.arrow(0, 0, vectorC[0], vectorC[1], color='blue',  head_width=0.5, head_length=0)\n",
    "# Agregar indicación con el nombre del vector\n",
    "nombre_vector = 'Vector C'\n",
    "plt.text(vectorC[0], vectorC[1], nombre_vector, fontsize=12, ha='left', va='bottom')\n",
    "\n",
    "plt.arrow(0, 0, alpha1[0], alpha1[1], color='green',  head_width=0.5, head_length=0)\n",
    "\n",
    "plt.arrow(0, 0, alpha2[0], alpha2[1], color='green',  head_width=0.5, head_length=0)\n",
    "\n",
    "plt.arrow(0, 0, alpha3[0], alpha3[1], color='green',  head_width=0.5, head_length=0)\n",
    "\n",
    "\n",
    "\n",
    "\n",
    "# Configurar los límites de los ejes\n",
    "plt.xlim([0, 10])\n",
    "plt.ylim([0, 10])\n",
    "\n",
    "# Etiquetas y título del gráfico\n",
    "plt.xlabel('x')\n",
    "plt.ylabel('y')\n",
    "plt.title('Gráfico de la función cuadrática')\n",
    "\n",
    "# Mostrar el gráfico\n",
    "plt.show()\n"
   ]
  }
 ],
 "metadata": {
  "kernelspec": {
   "display_name": "Python 3",
   "language": "python",
   "name": "python3"
  },
  "language_info": {
   "codemirror_mode": {
    "name": "ipython",
    "version": 3
   },
   "file_extension": ".py",
   "mimetype": "text/x-python",
   "name": "python",
   "nbconvert_exporter": "python",
   "pygments_lexer": "ipython3",
   "version": "3.11.2"
  },
  "orig_nbformat": 4
 },
 "nbformat": 4,
 "nbformat_minor": 2
}
