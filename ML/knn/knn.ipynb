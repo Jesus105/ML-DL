{
 "cells": [
  {
   "cell_type": "markdown",
   "metadata": {},
   "source": [
    "# Exploring K-Nearest Neighbors (KNN) Algorithm\n",
    "\n",
    "## Overview\n",
    "This Jupyter notebook is dedicated to understanding and implementing the K-Nearest Neighbors (KNN) algorithm, a fundamental machine learning technique used for both classification and regression tasks. The notebook will guide you through the steps of using KNN with practical examples and data.\n",
    "\n",
    "## Objectives\n",
    "- **Theory Introduction:** Briefly introduce the theory behind the KNN algorithm, including how it works and its applications.\n",
    "- **Data Preparation:** Demonstrate how to prepare data for use with KNN, focusing on feature selection and normalization.\n",
    "- **KNN Implementation:** Walk through the implementation of the KNN algorithm using a suitable Python library.\n",
    "- **Model Evaluation:** Discuss different metrics for evaluating the performance of the KNN model.\n",
    "\n",
    "## Key Features\n",
    "- **Parameter Tuning:** Explore how different values of 'K' affect the performance and accuracy of the model.\n",
    "- **Visualization:** Include visualizations to help illustrate how KNN classifies data points based on their neighbors.\n",
    "- **Practical Examples:** Provide examples using real-world datasets to show how KNN can be applied to solve problems.\n",
    "\n",
    "## Usage\n",
    "- Follow the step-by-step guide to replicate the KNN analysis.\n",
    "- Experiment with different datasets and K values to see the impact on model outcomes.\n",
    "\n",
    "## Author\n",
    "- **Name:** Jesús Méndez\n",
    "\n",
    "This notebook serves as a comprehensive guide for those new to or looking to deepen their understanding of the K-Nearest Neighbors algorithm, emphasizing hands-on experience and practical application.\n"
   ]
  },
  {
   "cell_type": "code",
   "execution_count": 19,
   "metadata": {},
   "outputs": [],
   "source": [
    "import numpy as np"
   ]
  },
  {
   "cell_type": "code",
   "execution_count": 20,
   "metadata": {},
   "outputs": [],
   "source": [
    "x_1 = [1,1,1,2,3,3,3,4,5]\n",
    "x_2 = [1,2,4,3,0,2,5,4,3]\n",
    "clase = ['+','-','-','+','+','+','-','-','-']\n",
    "A = [1,22]"
   ]
  },
  {
   "cell_type": "code",
   "execution_count": 21,
   "metadata": {},
   "outputs": [],
   "source": [
    "vecinos = list()\n",
    "distancias = list()\n",
    "\n",
    "for i in range(len(x_1)):\n",
    "    d = ((A[0]-x_1[i])**2+(A[1]-x_2[i])**2)**0.5\n",
    "    vecinos.append([(i+1),round(d,2),clase[i]])\n",
    "    distancias.append(round(d,2))\n"
   ]
  },
  {
   "cell_type": "code",
   "execution_count": 22,
   "metadata": {},
   "outputs": [
    {
     "data": {
      "text/plain": [
       "[[1, 21.0, '+'],\n",
       " [2, 20.0, '-'],\n",
       " [3, 18.0, '-'],\n",
       " [4, 19.03, '+'],\n",
       " [5, 22.09, '+'],\n",
       " [6, 20.1, '+'],\n",
       " [7, 17.12, '-'],\n",
       " [8, 18.25, '-'],\n",
       " [9, 19.42, '-']]"
      ]
     },
     "execution_count": 22,
     "metadata": {},
     "output_type": "execute_result"
    }
   ],
   "source": [
    "vecinos"
   ]
  },
  {
   "cell_type": "code",
   "execution_count": 23,
   "metadata": {},
   "outputs": [
    {
     "data": {
      "text/plain": [
       "[21.0, 20.0, 18.0, 19.03, 22.09, 20.1, 17.12, 18.25, 19.42]"
      ]
     },
     "execution_count": 23,
     "metadata": {},
     "output_type": "execute_result"
    }
   ],
   "source": [
    "distancias"
   ]
  },
  {
   "cell_type": "code",
   "execution_count": 24,
   "metadata": {},
   "outputs": [],
   "source": [
    "distanciasOrdenadas = sorted(vecinos, key=lambda x: x[1])"
   ]
  },
  {
   "cell_type": "code",
   "execution_count": 25,
   "metadata": {},
   "outputs": [
    {
     "data": {
      "text/plain": [
       "[[7, 17.12, '-'],\n",
       " [3, 18.0, '-'],\n",
       " [8, 18.25, '-'],\n",
       " [4, 19.03, '+'],\n",
       " [9, 19.42, '-'],\n",
       " [2, 20.0, '-'],\n",
       " [6, 20.1, '+'],\n",
       " [1, 21.0, '+'],\n",
       " [5, 22.09, '+']]"
      ]
     },
     "execution_count": 25,
     "metadata": {},
     "output_type": "execute_result"
    }
   ],
   "source": [
    "distanciasOrdenadas"
   ]
  },
  {
   "cell_type": "code",
   "execution_count": 26,
   "metadata": {},
   "outputs": [
    {
     "data": {
      "text/plain": [
       "1.129999999999999"
      ]
     },
     "execution_count": 26,
     "metadata": {},
     "output_type": "execute_result"
    }
   ],
   "source": [
    "k3 = [distancias[6],distancias[2], distancias[7]]\n",
    "max(k3)-min(k3)"
   ]
  },
  {
   "cell_type": "code",
   "execution_count": 27,
   "metadata": {},
   "outputs": [
    {
     "data": {
      "text/plain": [
       "[-2.433628318584073,\n",
       " -1.5486725663716827,\n",
       " 0.22123893805309755,\n",
       " -0.6902654867256653,\n",
       " -3.3982300884955783,\n",
       " -1.6371681415929231,\n",
       " 1.0,\n",
       " 0.0,\n",
       " -1.035398230088498]"
      ]
     },
     "execution_count": 27,
     "metadata": {},
     "output_type": "execute_result"
    }
   ],
   "source": [
    "w = list()\n",
    "\n",
    "for i in range(len(x_1)):\n",
    "    peso = ((max(k3)-distancias[i])/(max(k3)-min(k3)))\n",
    "    w.append(peso)\n",
    "\n",
    "w    \n"
   ]
  }
 ],
 "metadata": {
  "kernelspec": {
   "display_name": "Python 3",
   "language": "python",
   "name": "python3"
  },
  "language_info": {
   "codemirror_mode": {
    "name": "ipython",
    "version": 3
   },
   "file_extension": ".py",
   "mimetype": "text/x-python",
   "name": "python",
   "nbconvert_exporter": "python",
   "pygments_lexer": "ipython3",
   "version": "3.11.2"
  },
  "orig_nbformat": 4
 },
 "nbformat": 4,
 "nbformat_minor": 2
}
