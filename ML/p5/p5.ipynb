{
 "cells": [
  {
   "cell_type": "code",
   "execution_count": 1,
   "metadata": {},
   "outputs": [],
   "source": [
    "import pandas as pd\n",
    "import numpy as np\n",
    "import matplotlib.pyplot as plt\n",
    "from sklearn.model_selection import train_test_split\n",
    "from sklearn.metrics import accuracy_score\n",
    "from sklearn.metrics import classification_report\n",
    "from sklearn.metrics import confusion_matrix\n",
    "from sklearn.metrics import ConfusionMatrixDisplay\n"
   ]
  },
  {
   "cell_type": "code",
   "execution_count": 2,
   "metadata": {},
   "outputs": [],
   "source": [
    "df = pd.read_csv('heart.csv', sep=',')\n",
    "x = df.iloc[:,0:13].values\n",
    "y = df.iloc[:,13].values\n",
    "# Dividir los datos en conjuntos de entrenamiento y prueba\n",
    "X_train, X_test, y_train, y_test = train_test_split(x, y, test_size=0.3, random_state=0, shuffle = True)"
   ]
  },
  {
   "cell_type": "code",
   "execution_count": 3,
   "metadata": {},
   "outputs": [
    {
     "name": "stdout",
     "output_type": "stream",
     "text": [
      "El vector positivo es:\n",
      " [5.32542373e+01 5.00000000e-01 1.36440678e+00 1.28991525e+02\n",
      " 2.45398305e+02 1.27118644e-01 5.67796610e-01 1.58203390e+02\n",
      " 1.52542373e-01 5.94915254e-01 1.60169492e+00 3.13559322e-01\n",
      " 2.10169492e+00]\n",
      "El vector negativo es:\n",
      " [5.61063830e+01 8.29787234e-01 4.68085106e-01 1.34468085e+02\n",
      " 2.50989362e+02 2.02127660e-01 5.21276596e-01 1.39085106e+02\n",
      " 5.85106383e-01 1.70638298e+00 1.18085106e+00 1.19148936e+00\n",
      " 2.48936170e+00]\n",
      "El vector c es:\n",
      " [5.46803101e+01 6.64893617e-01 9.16245943e-01 1.31729805e+02\n",
      " 2.48193833e+02 1.64623152e-01 5.44536603e-01 1.48644248e+02\n",
      " 3.68824378e-01 1.15064912e+00 1.39127299e+00 7.52524342e-01\n",
      " 2.29552831e+00]\n",
      "La magnitud es:\n",
      " 322.565971485979\n",
      "[0, 1, 1, 1, 0, 1, 0, 1, 1, 1, 0, 1, 0, 1, 0, 0, 0, 1, 0, 1, 0, 0, 1, 0, 0, 0, 0, 0, 0, 0, 0, 1, 1, 0, 0, 1, 1, 1, 0, 1, 0, 1, 0, 0, 0, 1, 0, 0, 1, 1, 1, 1, 1, 0, 0, 0, 0, 1, 0, 0, 0, 0, 1, 0, 0, 1, 0, 1, 0, 1, 0, 1, 0, 1, 0, 0, 0, 0, 1, 1, 0, 0, 0, 0, 0, 1, 1, 0, 1, 0, 1]\n",
      "[0, 1, 1, 1, 0, 1, 0, 1, 1, 1, 0, 1, 0, 1, 0, 0, 0, 1, 0, 1, 0, 0, 1, 0, 0, 0, 0, 0, 0, 0, 0, 1, 1, 0, 0, 1, 1, 1, 0, 1, 0, 1, 0, 0, 0, 1, 0, 0, 1, 1, 1, 1, 1, 0, 0, 0, 0, 1, 0, 0, 0, 0, 1, 0, 0, 1, 0, 1, 0, 1, 0, 1, 0, 1, 0, 0, 0, 0, 1, 1, 0, 0, 0, 0, 0, 1, 1, 0, 1, 0, 1]\n",
      "              precision    recall  f1-score   support\n",
      "\n",
      "           0       0.47      0.57      0.52        44\n",
      "           1       0.50      0.40      0.45        47\n",
      "\n",
      "    accuracy                           0.48        91\n",
      "   macro avg       0.49      0.49      0.48        91\n",
      "weighted avg       0.49      0.48      0.48        91\n",
      "\n"
     ]
    },
    {
     "data": {
      "image/png": "[encoded data removed]",
      "text/plain": [
       "<Figure size 640x480 with 2 Axes>"
      ]
     },
     "metadata": {},
     "output_type": "display_data"
    }
   ],
   "source": [
    "def svm(X_train,y_train,X_test,y_test):\n",
    "  sumaResCpos = []\n",
    "  prediccion = []\n",
    "  # Obtener los índices de los elementos 0\n",
    "  indices_0 = np.where(y_train == 0)[0]\n",
    "\n",
    "  # Obtener los índices de los elementos 1\n",
    "  indices_1 = np.where(y_train == 1)[0]\n",
    "\n",
    "  Cpos = X_train[indices_1]\n",
    "  Cneg = X_train[indices_0]\n",
    "  #print(\"Conjunto C+:\\n\",Cpos)\n",
    "  #print(\"Conjunto C-:\\n\",Cneg)\n",
    "\n",
    "  #Calculos para obtener el valor del vector C\n",
    "  Cpos_np = np.array(Cpos)\n",
    "  sumaPos= np.sum(Cpos, axis = 0)\n",
    "  #print(\"La suma positiva es:\\n\",sumaPos)\n",
    "  Cpos_vector = sumaPos/len(Cpos)\n",
    "  print(\"El vector positivo es:\\n\",Cpos_vector)\n",
    "\n",
    "  sumaNeg= np.sum(Cneg, axis = 0)\n",
    "  #print(\"La suma negativa es:\\n\",sumaNeg)\n",
    "  Cneg_vector = sumaNeg/len(Cneg)\n",
    "  print(\"El vector negativo es:\\n\",Cneg_vector)\n",
    "\n",
    "  C = (Cneg_vector + Cpos_vector)/ 2\n",
    "  print(\"El vector c es:\\n\",C)\n",
    "\n",
    "  #Calculos para obtener la magnitud\n",
    "  Cal2 = np.square(C)\n",
    "  cal2Suma = np.sum(Cal2)\n",
    "  magnitud = np.sqrt(cal2Suma)\n",
    "  print(\"La magnitud es:\\n\",magnitud)\n",
    "\n",
    "  #Creando la prediccion de las clases\n",
    "  for i in range(len(X_test)):\n",
    "    multiProy = X_test[i]*C\n",
    "    proyeccion = np.sum(multiProy)/magnitud\n",
    "    #print(f\"La proyeccion en la posicion {i} es:\",proyeccion)\n",
    "    if proyeccion < magnitud:\n",
    "      #print(\"La clase será negativa(0)\")\n",
    "      prediccion.append(0)\n",
    "    elif proyeccion > magnitud:\n",
    "      #print(\"La clase será positiva(1)\")\n",
    "      prediccion.append(1)\n",
    "    else:\n",
    "      print(\"No existe la clase\")\n",
    "  print(prediccion)\n",
    "\n",
    "  cm = confusion_matrix(y_test,prediccion)\n",
    "  print(prediccion)\n",
    "  print(classification_report(y_test,prediccion))\n",
    "  disp = ConfusionMatrixDisplay(confusion_matrix=cm)\n",
    "  disp.plot()\n",
    "  plt.show()\n",
    "    \n",
    "\n",
    "\n",
    "svm(X_train,y_train,X_test,y_test)"
   ]
  }
 ],
 "metadata": {
  "kernelspec": {
   "display_name": "Python 3",
   "language": "python",
   "name": "python3"
  },
  "language_info": {
   "codemirror_mode": {
    "name": "ipython",
    "version": 3
   },
   "file_extension": ".py",
   "mimetype": "text/x-python",
   "name": "python",
   "nbconvert_exporter": "python",
   "pygments_lexer": "ipython3",
   "version": "3.11.2"
  },
  "orig_nbformat": 4
 },
 "nbformat": 4,
 "nbformat_minor": 2
}
