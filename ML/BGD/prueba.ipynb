{
 "cells": [
  {
   "cell_type": "code",
   "execution_count": 1,
   "metadata": {},
   "outputs": [],
   "source": [
    "import numpy as np\n"
   ]
  },
  {
   "cell_type": "code",
   "execution_count": 3,
   "metadata": {},
   "outputs": [],
   "source": [
    "def cost_function(X, y, w):\n",
    "    m = len(y)\n",
    "    J = (1/(2*m)) * np.sum(np.square(np.dot(X, w) - y))\n",
    "    return J\n",
    "\n",
    "def gradient(X, y, w):\n",
    "    m = len(y)\n",
    "    grad = (1/m) * np.dot(X.T, np.dot(X, w) - y)\n",
    "    return grad\n",
    "\n",
    "def BGD(X, y, w, alpha, iterations):\n",
    "    m = len(y)\n",
    "    J_history = np.zeros(iterations)\n",
    "\n",
    "    for i in range(iterations):\n",
    "        h = np.dot(X, w)\n",
    "        w = w - alpha * gradient(X, y, w)\n",
    "        J_history[i] = cost_function(X, y, w)\n",
    "        print(w)\n",
    "\n",
    "    return w, J_history\n"
   ]
  },
  {
   "cell_type": "code",
   "execution_count": 6,
   "metadata": {},
   "outputs": [
    {
     "name": "stdout",
     "output_type": "stream",
     "text": [
      "[0.7752     1.87146667 2.96773333]\n",
      "[0.77098667 1.86432711 2.95766756]\n",
      "[0.76726023 1.85834316 2.94942609]\n",
      "Los pesos óptimos son:  [0.76726023 1.85834316 2.94942609]\n"
     ]
    }
   ],
   "source": [
    "# Datos de entrenamiento\n",
    "X = np.array([[1,1,1],[1,2,3],[1,3,5]])\n",
    "y = np.array([5,13,21])\n",
    "\n",
    "# Parámetros de la regresión lineal\n",
    "w = np.array([0.78, 1.88, 2.98])\n",
    "alpha = 0.01\n",
    "iterations = 3\n",
    "\n",
    "# Entrenamiento del modelo\n",
    "w_optimal, J_history = BGD(X, y, w, alpha, iterations)\n",
    "\n",
    "# Imprimir los pesos óptimos\n",
    "print(\"Los pesos óptimos son: \", w_optimal)"
   ]
  }
 ],
 "metadata": {
  "kernelspec": {
   "display_name": "Python 3",
   "language": "python",
   "name": "python3"
  },
  "language_info": {
   "codemirror_mode": {
    "name": "ipython",
    "version": 3
   },
   "file_extension": ".py",
   "mimetype": "text/x-python",
   "name": "python",
   "nbconvert_exporter": "python",
   "pygments_lexer": "ipython3",
   "version": "3.11.2"
  },
  "orig_nbformat": 4
 },
 "nbformat": 4,
 "nbformat_minor": 2
}
