{
 "cells": [
  {
   "cell_type": "code",
   "execution_count": 6,
   "metadata": {},
   "outputs": [],
   "source": [
    "import numpy as np\n",
    "\n",
    "\n",
    "def cost_function(X, y, w):\n",
    "    m = len(y)\n",
    "    J = (1/(2*m)) * np.sum(np.square(np.dot(X, w) - y))\n",
    "    return J\n",
    "\n",
    "def gradient(X, y, w, i):\n",
    "    grad = (np.dot(X[i], w) - y[i]) * X[i]\n",
    "    return grad\n",
    "\n",
    "\n",
    "def SGD(X, y, w, alpha, iterations):\n",
    "    m = len(y)\n",
    "    J_history = np.zeros(iterations)\n",
    "\n",
    "    for i in range(iterations):\n",
    "        j = i % m  # elegir una muestra aleatoria del conjunto de datos\n",
    "        w = w - alpha * gradient(X, y, w, j)\n",
    "        J_history[i] = cost_function(X, y, w)\n",
    "        print(w)\n",
    "\n",
    "    return w, J_history\n",
    "\n"
   ]
  },
  {
   "cell_type": "code",
   "execution_count": 7,
   "metadata": {},
   "outputs": [
    {
     "name": "stdout",
     "output_type": "stream",
     "text": [
      "[0.8616]\n",
      "[0.947136]\n",
      "[1.13189376]\n",
      "Los pesos óptimos son:  [1.13189376]\n"
     ]
    }
   ],
   "source": [
    "import numpy as np\n",
    "\n",
    "# Datos de entrenamiento\n",
    "X = np.array([1, 2, 3])\n",
    "y = np.array([3, 6, 9])\n",
    "\n",
    "# Parámetros de la regresión lineal\n",
    "w = 0.84\n",
    "alpha = 0.01\n",
    "iterations = 3\n",
    "\n",
    "# Entrenamiento del modelo\n",
    "w_optimal, J_history = SGD(X.reshape(-1,1), y, w, alpha, iterations)\n",
    "\n",
    "# Imprimir los pesos óptimos\n",
    "print(\"Los pesos óptimos son: \", w_optimal)\n",
    "\n"
   ]
  }
 ],
 "metadata": {
  "kernelspec": {
   "display_name": "Python 3",
   "language": "python",
   "name": "python3"
  },
  "language_info": {
   "codemirror_mode": {
    "name": "ipython",
    "version": 3
   },
   "file_extension": ".py",
   "mimetype": "text/x-python",
   "name": "python",
   "nbconvert_exporter": "python",
   "pygments_lexer": "ipython3",
   "version": "3.11.2"
  },
  "orig_nbformat": 4
 },
 "nbformat": 4,
 "nbformat_minor": 2
}
